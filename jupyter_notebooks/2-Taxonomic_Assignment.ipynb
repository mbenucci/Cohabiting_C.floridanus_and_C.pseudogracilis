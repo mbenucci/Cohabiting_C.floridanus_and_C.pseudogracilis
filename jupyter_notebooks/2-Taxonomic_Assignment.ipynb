{
 "cells": [
  {
   "cell_type": "markdown",
   "metadata": {},
   "source": [
    "Here the we aim to assign taxonomic identity to the set of denovo OTUs obtained from the DNA and eDNA samples taken from river catchments in the UK.\n",
    "\n",
    "Here we are using a full GenBank as a reference database (this will be a curated invertebrate database in future runs). Taxonomic assignment will be performed using two different approaches:\n",
    "\n",
    " - BLAST based LCA\n",
    " - Kraken (k-mer based sequence classification)\n",
    " \n",
    "We will again be using metaBEAT to facilitate reproducibility.\n",
    "\n",
    "The final result of this notebook will be a taxonomically annotated OTU table in BIOM format from each approach, which I can then go and compare. BIOM format and the associated set of python functions has been developed as a standardized format for representing 'biological sample by observation contingency tables' in the -omics area.\n",
    "\n",
    "Most of the input data was produced during processing of the eDNA samples.\n",
    "\n",
    "I must specify location and file format reference sequences come in. Different formats (fasta, Genbank) can be mixed and matched. A simple text file that contains the path to the file and the format specification must be prepared.\n"
   ]
  },
  {
   "cell_type": "markdown",
   "metadata": {},
   "source": [
    "**Notes for using the invert_database when it is finished**\n",
    "\n",
    "The reference sequences in Genbank/fasta format are contained in the directory Reference_Alignment. The files is called `12S_UK...._SATIVA_cleaned.gb' and additional fasta files containing Sanger sequences to supplement records on genbank.\n",
    "\n",
    "Produce the text file containing the invert_database reference sequences using the command line - We call it REFmap.txt."
   ]
  },
  {
   "cell_type": "code",
   "execution_count": null,
   "metadata": {
    "collapsed": false,
    "scrolled": true
   },
   "outputs": [],
   "source": [
    "pwd"
   ]
  },
  {
   "cell_type": "code",
   "execution_count": null,
   "metadata": {
    "collapsed": false
   },
   "outputs": [],
   "source": [
    "mkdir taxonomic_assignment"
   ]
  },
  {
   "cell_type": "code",
   "execution_count": null,
   "metadata": {
    "collapsed": false
   },
   "outputs": [],
   "source": [
    "cd taxonomic_assignment/"
   ]
  },
  {
   "cell_type": "code",
   "execution_count": null,
   "metadata": {
    "collapsed": false
   },
   "outputs": [],
   "source": [
    "ls ../../reference_database/CO1_refdb/"
   ]
  },
  {
   "cell_type": "code",
   "execution_count": null,
   "metadata": {
    "collapsed": true
   },
   "outputs": [],
   "source": [
    "!echo '../../reference_database/CO1_refdb/CO1_Acaria_Aracnida_SATIVA_cleaned.gb\\tgb\\n' \\\n",
    "'../../reference_database/CO1_refdb/CO1_amphipoda-part_SATIVA_cleaned.gb\\tgb\\n' \\\n",
    "'../../reference_database/CO1_refdb/CO1_Anellida_SATIVA_cleaned.gb\\tgb\\n' \\\n",
    "'../../reference_database/CO1_refdb/CO1_coccinellidae_SATIVA_cleaned.gb\\tgb\\n' \\\n",
    "'../../reference_database/CO1_refdb/CO1_Coleoptera_SATIVA_cleaned.gb\\tgb\\n' \\\n",
    "'../../reference_database/CO1_refdb/CO1_Crustacea_SATIVA_cleaned.gb\\tgb\\n' \\\n",
    "'../../reference_database/CO1_refdb/CO1_EPNM_SATIVA_cleaned.gb\\tgb\\n' \\\n",
    "'../../reference_database/CO1_refdb/CO1_Hemiptera-Hymenoptera_SATIVA_cleaned.gb\\tgb\\n' \\\n",
    "'../../reference_database/CO1_refdb/CO1_Mollusca_SATIVA_cleaned.gb\\tgb\\n' \\\n",
    "'../../reference_database/CO1_refdb/CO1_Odonata_SATIVA_cleaned.gb\\tgb\\n' \\\n",
    "'../../reference_database/CO1_refdb/CO1_Trichoptera_Lepidoptera_SATIVA_cleaned.gb\\tgb' > REFmap.txt"
   ]
  },
  {
   "cell_type": "code",
   "execution_count": null,
   "metadata": {
    "collapsed": false
   },
   "outputs": [],
   "source": [
    "!cat REFmap.txt"
   ]
  },
  {
   "cell_type": "markdown",
   "metadata": {},
   "source": [
    "**As we have no invert_database yet, we will be blasting against full online NCBI**\n",
    "\n",
    "Produce the text file containing non-chimera query sequences - Querymap.txt"
   ]
  },
  {
   "cell_type": "code",
   "execution_count": null,
   "metadata": {
    "collapsed": false
   },
   "outputs": [],
   "source": [
    "%%bash\n",
    "\n",
    "#Querymap\n",
    "for a in $(ls -l ../chimera_detection/ | grep \"^d\" | perl -ne 'chomp; @a=split(\" \"); print \"$a[-1]\\n\"')\n",
    "do\n",
    "    echo -e \"$a-nc\\tfasta\\t../chimera_detection/$a/$a-nonchimeras.fasta\"\n",
    "done > Querymap.txt"
   ]
  },
  {
   "cell_type": "code",
   "execution_count": null,
   "metadata": {
    "collapsed": false
   },
   "outputs": [],
   "source": [
    "!cat Querymap.txt"
   ]
  },
  {
   "cell_type": "markdown",
   "metadata": {},
   "source": [
    "The Querymap.txt file has been made but include the GLOBAL directory in which all centroids and queries are contained (line 514). This will cause metaBEAT to fail so must be removed manually from the Querymap.txt file."
   ]
  },
  {
   "cell_type": "code",
   "execution_count": null,
   "metadata": {
    "collapsed": true
   },
   "outputs": [],
   "source": [
    "!sed '/GLOBAL/d' Querymap.txt > Querymap_final.txt"
   ]
  },
  {
   "cell_type": "code",
   "execution_count": null,
   "metadata": {
    "collapsed": false,
    "scrolled": true
   },
   "outputs": [],
   "source": [
    "!cat Querymap_final.txt"
   ]
  },
  {
   "cell_type": "markdown",
   "metadata": {},
   "source": [
    "That's almost it. Now start the pipeline to do sequence clustering and taxonomic assignment of non-chimera queries via metaBEAT. As input, Querymap.txt containing samples that have been trimmed, merged and checked for chimeras, and the REFmap.txt file must be specified. metaBEAT will be asked to attempt taxonomic assignment with the two different approaches mentioned above.\n",
    "\n",
    "Kraken requires a specific database that metaBEAT will build automatically if necessary.\n",
    "metaBEAT will automatically wrangle the data into the particular file formats that are required by each of the methods, run all necessary steps, and finally convert the outputs of each program to a standardized BIOM table.\n",
    "GO!"
   ]
  },
  {
   "cell_type": "code",
   "execution_count": 1,
   "metadata": {
    "collapsed": false,
    "scrolled": true
   },
   "outputs": [
    {
     "name": "stdout",
     "output_type": "stream",
     "text": [
      "usage: metaBEAT.py [-h] [-Q <FILE>] [-B <FILE>] [--g_queries <FILE>] [-v] [-s]\r\n",
      "                   [-f] [-p] [-k] [-t] [-b] [-m <string>] [-n <INT>] [-E] [-e]\r\n",
      "                   [--read_stats_off] [--PCR_primer <FILE>] [--bc_dist <INT>]\r\n",
      "                   [--trim_adapter <FILE>] [--trim_qual <INT>] [--phred <INT>]\r\n",
      "                   [--trim_window <INT>] [--read_crop <INT>]\r\n",
      "                   [--trim_minlength <INT>] [--merge] [--product_length <INT>]\r\n",
      "                   [--merged_only] [--forward_only] [--length_filter <INT>]\r\n",
      "                   [--length_deviation <FLOAT>] [-R <FILE>] [--gb_out <FILE>]\r\n",
      "                   [--rec_check] [--gb_to_taxid <FILE>] [--cluster]\r\n",
      "                   [--clust_match <FLOAT>] [--clust_cov <INT>]\r\n",
      "                   [--blast_db <PATH>] [--blast_xml <PATH>]\r\n",
      "                   [--update_taxonomy] [--taxonomy_db <FILE>]\r\n",
      "                   [--min_ident <FLOAT>] [--min_ali_length <FLOAT>]\r\n",
      "                   [--bitscore_skim_LCA <FLOAT>] [--bitscore_skim_adjust_off]\r\n",
      "                   [--min_bit <INT>] [--refpkg <DIR>] [--jplace <FILE>]\r\n",
      "                   [--jellyfish_hash_size <STR>] [--kraken_db <DIR>]\r\n",
      "                   [--kraken_score_threshold <FLOAT>] [--rm_kraken_db]\r\n",
      "                   [-o OUTPUT_PREFIX] [--metadata METADATA]\r\n",
      "                   [-@ <email-address>] [--version]\r\n",
      "\r\n",
      "metaBEAT - metaBarcoding and Environmental DNA Analyses tool version:\r\n",
      "v.0.97.11-global\r\n",
      "\r\n",
      "optional arguments:\r\n",
      "  -h, --help            show this help message and exit\r\n",
      "  -Q <FILE>, --querylist <FILE>\r\n",
      "                        file containing a list of query files\r\n",
      "  -B <FILE>, --BIOM_input <FILE>\r\n",
      "                        OTU table in BIOM format\r\n",
      "  --g_queries <FILE>    fasta file containing query sequences (in combination\r\n",
      "                        with '-B' sequence headers are expected to match)\r\n",
      "  -v, --verbose         turn verbose output on\r\n",
      "  -s, --seqinfo         write out seq_info.csv file\r\n",
      "  -f, --fasta           write out ref.fasta file\r\n",
      "  -p, --pplace          perform phylogenetic placement\r\n",
      "  -k, --kraken          perform phylogenetic placement\r\n",
      "  -t, --taxids          write out taxid.txt file\r\n",
      "  -b, --blast           compile local blast db and blast queries\r\n",
      "  -m <string>, --marker <string>\r\n",
      "                        marker ID (default: marker)\r\n",
      "  -n <INT>, --n_threads <INT>\r\n",
      "                        Number of threads (default: 1)\r\n",
      "  -E, --extract_centroid_reads\r\n",
      "                        extract centroid reads to files\r\n",
      "  -e, --extract_all_reads\r\n",
      "                        extract reads to files\r\n",
      "  --read_stats_off      ommit writing read stats to file\r\n",
      "  --version             show program's version number and exit\r\n",
      "\r\n",
      "Query preprocessing:\r\n",
      "  The parameters in this group affect how the query sequences are processed\r\n",
      "\r\n",
      "  --PCR_primer <FILE>   PCR primers (provided in fasta file) to be clipped\r\n",
      "                        from reads\r\n",
      "  --bc_dist <INT>       Number of mismatches allowed in barcode sequences\r\n",
      "  --trim_adapter <FILE>\r\n",
      "                        trim adapters provided in file\r\n",
      "  --trim_qual <INT>     minimum phred quality score (default: 30)\r\n",
      "  --phred <INT>         phred quality score offset - 33 or 64 (default: 33)\r\n",
      "  --trim_window <INT>   sliding window size (default: 5) for trimming; if\r\n",
      "                        average quality drops below the specified minimum\r\n",
      "                        quality all subsequent bases are removed from the\r\n",
      "                        reads\r\n",
      "  --read_crop <INT>     Crop reads to this length if they are longer than that\r\n",
      "                        (default: off)\r\n",
      "  --trim_minlength <INT>\r\n",
      "                        minimum length of reads to be retained after trimming\r\n",
      "                        (default: 50)\r\n",
      "  --merge               attempt to merge paired-end reads\r\n",
      "  --product_length <INT>\r\n",
      "                        estimated length of PCR product (specifying this\r\n",
      "                        option increases merging efficiency)\r\n",
      "  --merged_only         only process successfully merged read-pairs\r\n",
      "  --forward_only        only process sequences that contain forward reads\r\n",
      "                        (i.e. unmerged forward reads and merged reads)\r\n",
      "  --length_filter <INT>\r\n",
      "                        only process reads, which are within +/- 10 percent of\r\n",
      "                        this length\r\n",
      "  --length_deviation <FLOAT>\r\n",
      "                        allowed deviation (in percent) from length specified\r\n",
      "                        by --length_filter (default=0.1)\r\n",
      "\r\n",
      "Reference:\r\n",
      "  The parameters in this group affect the reference to be used in the\r\n",
      "  analyses\r\n",
      "\r\n",
      "  -R <FILE>, --REFlist <FILE>\r\n",
      "                        file containing a list of files to be used as\r\n",
      "                        reference sequences\r\n",
      "  --gb_out <FILE>       output the corrected gb file\r\n",
      "  --rec_check           check records to be used as reference\r\n",
      "  --gb_to_taxid <FILE>  comma delimited file containing 'gb accession,taxid'\r\n",
      "                        for a list of taxa\r\n",
      "\r\n",
      "Query clustering options:\r\n",
      "  The parameters in this group affect read clustering\r\n",
      "\r\n",
      "  --cluster             perform clustering of query sequences using vsearch\r\n",
      "  --clust_match <FLOAT>\r\n",
      "                        identity threshold for clustering in percent (default:\r\n",
      "                        1)\r\n",
      "  --clust_cov <INT>     minimum number of records in cluster (default: 1)\r\n",
      "\r\n",
      "BLAST search:\r\n",
      "  The parameters in this group affect BLAST search and BLAST based taxonomic\r\n",
      "  assignment\r\n",
      "\r\n",
      "  --blast_db <PATH>     path to precompiled blast database\r\n",
      "  --blast_xml <PATH>    path to Blast result in xml format\r\n",
      "  --update_taxonomy     Download/update taxonomy database. Database will be\r\n",
      "                        called 'taxonomy.db' and will be compiled in the same\r\n",
      "                        location as the metaBEAT.py script.\r\n",
      "  --taxonomy_db <FILE>  taxonomy database file location. In case it's not the\r\n",
      "                        default, which is 'taxonomy.db' in the same directory\r\n",
      "                        as the metaBEAT.py script.\r\n",
      "  --min_ident <FLOAT>   minimum identity threshold in percent (default: 0.80)\r\n",
      "  --min_ali_length <FLOAT>\r\n",
      "                        minimum alignment length in percent of total query\r\n",
      "                        length (default: 0.95)\r\n",
      "  --bitscore_skim_LCA <FLOAT>\r\n",
      "                        Only BLAST hits with bitscores differing by less than\r\n",
      "                        this factor from the top hit (bitscore skim window)\r\n",
      "                        will be considered for LCA (0-1; default: 0.1)\r\n",
      "  --bitscore_skim_adjust_off\r\n",
      "                        Per default a 100% identity BLAST top hit across the\r\n",
      "                        minimum alignment length triggers an adjustment of the\r\n",
      "                        bitscore skim window to '0', i.e. only hits with\r\n",
      "                        bitscores as good as the top hit are considered for\r\n",
      "                        LCA. This flag switches this behaviour off.\r\n",
      "  --min_bit <INT>       minimum bitscore (default: 80)\r\n",
      "\r\n",
      "Phylogenetic placement:\r\n",
      "  The parameters in this group affect phylogenetic placement\r\n",
      "\r\n",
      "  --refpkg <DIR>        PATH to refpkg for pplacer\r\n",
      "  --jplace <FILE>       phylogenetic placement result from prefious pplacer\r\n",
      "                        run in *.jplace format\r\n",
      "\r\n",
      "Kraken:\r\n",
      "  The parameters in this group affect taxonomic assignment using Kraken\r\n",
      "\r\n",
      "  --jellyfish_hash_size <STR>\r\n",
      "                        jellyfish hash size to control memory usage during\r\n",
      "                        kraken database building. A table size of '6400M' will\r\n",
      "                        require ~44G of RAM. '2700M' -> 20G RAM.\r\n",
      "  --kraken_db <DIR>     PATH to a Kraken database\r\n",
      "  --kraken_score_threshold <FLOAT>\r\n",
      "                        minimum proportion of k-mers to support assignment\r\n",
      "                        (0-1; default: 0)\r\n",
      "  --rm_kraken_db        Remove Kraken database after successful completion\r\n",
      "\r\n",
      "BIOM OUTPUT:\r\n",
      "  The arguments in this groups affect the output in BIOM format\r\n",
      "\r\n",
      "  -o OUTPUT_PREFIX, --output_prefix OUTPUT_PREFIX\r\n",
      "                        prefix for BIOM output files (default='metaBEAT')\r\n",
      "  --metadata METADATA   comma delimited file containing metadata (optional)\r\n",
      "\r\n",
      "Entrez identification:\r\n",
      "  metaBEAT is querying the NCBI Entrez databases, please provide an email\r\n",
      "  address for identification\r\n",
      "\r\n",
      "  -@ <email-address>, --email <email-address>\r\n",
      "                        provide your email address for identification to NCBI\r\n"
     ]
    }
   ],
   "source": [
    "!metaBEAT_global.py -h"
   ]
  },
  {
   "cell_type": "code",
   "execution_count": null,
   "metadata": {
    "collapsed": false
   },
   "outputs": [],
   "source": [
    "%%bash\n",
    "\n",
    "metaBEAT_global.py \\\n",
    "-Q Querymap_final.txt \\\n",
    "-R REFmap.txt \\\n",
    "--cluster --clust_match 0.97 --clust_cov 2 \\\n",
    "--blast --min_ident 0.97 --min_ali_length 0.8 \\\n",
    "-m COI -n 5 \\\n",
    "-E -v \\\n",
    "-@ M.Benucci@2015.hull.ac.uk \\\n",
    "-o CO1DvAug18-merge-forwonly-nonchimera-c97-cov2_refdb-id97 &> log0.97"
   ]
  },
  {
   "cell_type": "code",
   "execution_count": null,
   "metadata": {
    "collapsed": false,
    "scrolled": true
   },
   "outputs": [],
   "source": [
    "!tail -n 50 log0.97"
   ]
  },
  {
   "cell_type": "markdown",
   "metadata": {},
   "source": [
    "Preparing and blasting unassigned sequences"
   ]
  },
  {
   "cell_type": "code",
   "execution_count": null,
   "metadata": {
    "collapsed": true
   },
   "outputs": [],
   "source": [
    "import metaBEAT_global_misc_functions as mb"
   ]
  },
  {
   "cell_type": "code",
   "execution_count": null,
   "metadata": {
    "collapsed": false
   },
   "outputs": [],
   "source": [
    "pwd"
   ]
  },
  {
   "cell_type": "code",
   "execution_count": null,
   "metadata": {
    "collapsed": false
   },
   "outputs": [],
   "source": [
    "cd ../taxonomic_assignment/GLOBAL/BLAST_0.97/"
   ]
  },
  {
   "cell_type": "code",
   "execution_count": null,
   "metadata": {
    "collapsed": false
   },
   "outputs": [],
   "source": [
    "cd ../../"
   ]
  },
  {
   "cell_type": "code",
   "execution_count": null,
   "metadata": {
    "collapsed": false
   },
   "outputs": [],
   "source": [
    "!ls GLOBAL/BLAST_0.97/"
   ]
  },
  {
   "cell_type": "code",
   "execution_count": null,
   "metadata": {
    "collapsed": false
   },
   "outputs": [],
   "source": [
    "table = mb.load_BIOM('./GLOBAL/BLAST_0.97/CO1DvAug18-merge-forwonly-nonchimera-c97-cov2_refdb-id97-OTU-taxonomy.blast.biom', informat='json')"
   ]
  },
  {
   "cell_type": "code",
   "execution_count": null,
   "metadata": {
    "collapsed": false
   },
   "outputs": [],
   "source": [
    "print table"
   ]
  },
  {
   "cell_type": "code",
   "execution_count": null,
   "metadata": {
    "collapsed": false
   },
   "outputs": [],
   "source": [
    "unassigned_table = mb.BIOM_return_by_tax_level(taxlevel='unassigned', BIOM=table, invert=False)"
   ]
  },
  {
   "cell_type": "code",
   "execution_count": null,
   "metadata": {
    "collapsed": false
   },
   "outputs": [],
   "source": [
    "print unassigned_table.metadata(axis='observation')"
   ]
  },
  {
   "cell_type": "code",
   "execution_count": null,
   "metadata": {
    "collapsed": false,
    "scrolled": true
   },
   "outputs": [],
   "source": [
    "!ls ./GLOBAL/"
   ]
  },
  {
   "cell_type": "code",
   "execution_count": null,
   "metadata": {
    "collapsed": false
   },
   "outputs": [],
   "source": [
    "mb.extract_fasta_by_BIOM_OTU_ids(in_fasta='./GLOBAL/global_queries.fasta', BIOM=unassigned_table,\n",
    "                                out_fasta='./GLOBAL/unassigned_only.fasta')"
   ]
  },
  {
   "cell_type": "code",
   "execution_count": null,
   "metadata": {
    "collapsed": false
   },
   "outputs": [],
   "source": [
    "!ls ./GLOBAL/"
   ]
  },
  {
   "cell_type": "code",
   "execution_count": null,
   "metadata": {
    "collapsed": true
   },
   "outputs": [],
   "source": [
    "unassigned_table_notax = mb.drop_BIOM_taxonomy(unassigned_table)"
   ]
  },
  {
   "cell_type": "code",
   "execution_count": null,
   "metadata": {
    "collapsed": false
   },
   "outputs": [],
   "source": [
    "print unassigned_table_notax.metadata(axis='observation')"
   ]
  },
  {
   "cell_type": "code",
   "execution_count": null,
   "metadata": {
    "collapsed": false
   },
   "outputs": [],
   "source": [
    "mb.write_BIOM(BIOM=unassigned_table_notax, target_prefix='./GLOBAL/unassigned_only_denovo', outfmt=['json','tsv'])"
   ]
  },
  {
   "cell_type": "code",
   "execution_count": null,
   "metadata": {
    "collapsed": false
   },
   "outputs": [],
   "source": [
    "!ls ./GLOBAL"
   ]
  },
  {
   "cell_type": "code",
   "execution_count": null,
   "metadata": {
    "collapsed": false
   },
   "outputs": [],
   "source": [
    "cd .."
   ]
  },
  {
   "cell_type": "code",
   "execution_count": null,
   "metadata": {
    "collapsed": false
   },
   "outputs": [],
   "source": [
    "!mkdir unassigned_otu"
   ]
  },
  {
   "cell_type": "code",
   "execution_count": null,
   "metadata": {
    "collapsed": true
   },
   "outputs": [],
   "source": [
    "!cp taxonomic_assignment/GLOBAL/u* ./unassigned_otu/"
   ]
  },
  {
   "cell_type": "code",
   "execution_count": null,
   "metadata": {
    "collapsed": false,
    "scrolled": true
   },
   "outputs": [],
   "source": [
    "cd unassigned_otu/"
   ]
  },
  {
   "cell_type": "code",
   "execution_count": null,
   "metadata": {
    "collapsed": true
   },
   "outputs": [],
   "source": [
    "%%bash\n",
    "\n",
    "metaBEAT_global.py \\\n",
    "-B unassigned_only_denovo.biom \\\n",
    "--g_queries unassigned_only.fasta \\\n",
    "--cluster --clust_match 0.97 --clust_cov 2 \\\n",
    "--blast --blast_db ../../BLAST_DB-aug18/nt/nt --min_ident 0.97 --min_ali_length 0.8 \\\n",
    "-m COI -n 5 \\\n",
    "-E -v \\\n",
    "-@ M.Benucci@2015.hull.ac.uk \\\n",
    "-o CO1DvAug18-merge-forwonly_nonchimera_blast-unassigned_c97-cov2_blast-id97 &> log0.97"
   ]
  },
  {
   "cell_type": "markdown",
   "metadata": {},
   "source": [
    "Trouble shooting notes:\n",
    "An error comes up one or more taxids are present in the taxid files (gi_to_taxid.csv, gb_to_taxid.csv, taxid.txt), but it is not present in the taxonomy database that the current metaBEAT image contains for some reason. The taxonomy database in the current image can be brought up to date manually using:\n",
    "\n",
    "Below not needed as we have updated the DB"
   ]
  },
  {
   "cell_type": "code",
   "execution_count": null,
   "metadata": {
    "collapsed": false,
    "scrolled": true
   },
   "outputs": [],
   "source": [
    "!tail -n 50 log0.97"
   ]
  },
  {
   "cell_type": "markdown",
   "metadata": {},
   "source": [
    "If the analysis gives an error with less taxa ID returned from the list provided, it means that the taxonomy database needs to be update. The script below will update the database for `taxtastic` package to run. It will take few minutes."
   ]
  },
  {
   "cell_type": "code",
   "execution_count": null,
   "metadata": {
    "collapsed": true
   },
   "outputs": [],
   "source": [
    "%%bash\n",
    "\n",
    "metaBEAT_global.py --update_taxonomy"
   ]
  }
 ],
 "metadata": {
  "kernelspec": {
   "display_name": "Python 2",
   "language": "python",
   "name": "python2"
  },
  "language_info": {
   "codemirror_mode": {
    "name": "ipython",
    "version": 2
   },
   "file_extension": ".py",
   "mimetype": "text/x-python",
   "name": "python",
   "nbconvert_exporter": "python",
   "pygments_lexer": "ipython2",
   "version": "2.7.6"
  }
 },
 "nbformat": 4,
 "nbformat_minor": 0
}
