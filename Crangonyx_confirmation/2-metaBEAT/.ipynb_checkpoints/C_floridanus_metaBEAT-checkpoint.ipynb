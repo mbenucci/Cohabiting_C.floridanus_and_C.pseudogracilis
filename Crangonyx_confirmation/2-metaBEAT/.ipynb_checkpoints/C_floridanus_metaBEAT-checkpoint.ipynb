{
 "cells": [
  {
   "cell_type": "markdown",
   "metadata": {},
   "source": [
    "### Illumina read processing and taxonomic classification of query sequences ###"
   ]
  },
  {
   "cell_type": "markdown",
   "metadata": {},
   "source": [
    "We are using our custom pipeline [metaBEAT](https://github.com/HullUni-bioinformatics/metaBEAT) to process the Illumina data and taxonomically identify query sequences. \n",
    "\n",
    "For full reproducibility metaBEAT was run inside a docker container - [here](https://hub.docker.com/r/chrishah/metabeat/).\n",
    "\n",
    "After initial read quality trimming, merging and clustering, query sequences are filtered to remove potential chimeras against a reference database composed of COI sequences of _Craongonyx pseudogracilis_, _Crangonyx floridanus_, _Crangonyx islandicus_, and the positive control taxa _Osmia bicornis_ (all downloaded from Genbank as described [here](https://localhost:8888/notebooks/C_floridanus/1-NCBI_references/C_floridanus_NCBI_reference.ipynb)). Taxonomic assignment was performed using BLAST and a lowest common ancestor (LCA) approach, as described in the paper.\n",
    "\n",
    "The file `Querymap.txt` contains the sample IDs and the location of the Illumina read files, plus the barcodes and instructions to clip off the first number of bases of both the forward and reverse reads, in order to remove any primers and heterogeneity spacers.\n",
    "\n",
    "The file `REFlist.txt` points towards the sequences included in the reference database."
   ]
  },
  {
   "cell_type": "code",
   "execution_count": null,
   "metadata": {
    "collapsed": false,
    "scrolled": true
   },
   "outputs": [],
   "source": [
    "!head Querymap.txt"
   ]
  },
  {
   "cell_type": "markdown",
   "metadata": {},
   "source": [
    "We prepare the list for the reference database."
   ]
  },
  {
   "cell_type": "code",
   "execution_count": null,
   "metadata": {
    "collapsed": false
   },
   "outputs": [],
   "source": [
    "%%bash\n",
    "\n",
    "for gb in $(ls -1 ../1-NCBI_references/*.gb | grep \"refseqs\" -v)\n",
    "do\n",
    "    echo -e \"$gb\\tgb\"\n",
    "done > REFlist.txt"
   ]
  },
  {
   "cell_type": "code",
   "execution_count": null,
   "metadata": {
    "collapsed": false,
    "scrolled": false
   },
   "outputs": [],
   "source": [
    "!cat REFlist.txt"
   ]
  },
  {
   "cell_type": "markdown",
   "metadata": {},
   "source": [
    "### Trimming, merging and clustering"
   ]
  },
  {
   "cell_type": "code",
   "execution_count": null,
   "metadata": {
    "collapsed": false,
    "scrolled": true
   },
   "outputs": [],
   "source": [
    "!metaBEAT_global.py --version"
   ]
  },
  {
   "cell_type": "code",
   "execution_count": null,
   "metadata": {
    "collapsed": false
   },
   "outputs": [],
   "source": [
    "!metaBEAT_global.py --help"
   ]
  },
  {
   "cell_type": "markdown",
   "metadata": {},
   "source": [
    "We run metaBEAT to cluster and trim the sequences from the metabarcoding data."
   ]
  },
  {
   "cell_type": "code",
   "execution_count": null,
   "metadata": {
    "collapsed": false
   },
   "outputs": [],
   "source": [
    "!metaBEAT_global.py \\\n",
    "-Q Querymap.txt \\\n",
    "--trim_qual 30 \\\n",
    "--length_filter 313 \\\n",
    "--product_length 313 \\\n",
    "--merge --merged_only \\\n",
    "-m COI -n 5 -v -@ m.benucci@2015.hull.ac.uk > metaBEAT_trim.log"
   ]
  },
  {
   "cell_type": "code",
   "execution_count": null,
   "metadata": {
    "collapsed": false,
    "scrolled": true
   },
   "outputs": [],
   "source": [
    "!head -n 100 metaBEAT_trim.log"
   ]
  },
  {
   "cell_type": "code",
   "execution_count": null,
   "metadata": {
    "collapsed": false,
    "scrolled": true
   },
   "outputs": [],
   "source": [
    "!tail -n 100 metaBEAT_trim.log"
   ]
  },
  {
   "cell_type": "markdown",
   "metadata": {},
   "source": [
    "### Chimera detection"
   ]
  },
  {
   "cell_type": "markdown",
   "metadata": {},
   "source": [
    "We then run the chimera detection step using the `.gb` files we generated before."
   ]
  },
  {
   "cell_type": "code",
   "execution_count": null,
   "metadata": {
    "collapsed": false
   },
   "outputs": [],
   "source": [
    "pwd"
   ]
  },
  {
   "cell_type": "code",
   "execution_count": null,
   "metadata": {
    "collapsed": false
   },
   "outputs": [],
   "source": [
    "!mkdir chimera_detection"
   ]
  },
  {
   "cell_type": "code",
   "execution_count": null,
   "metadata": {
    "collapsed": false
   },
   "outputs": [],
   "source": [
    "cd chimera_detection"
   ]
  },
  {
   "cell_type": "code",
   "execution_count": null,
   "metadata": {
    "collapsed": false
   },
   "outputs": [],
   "source": [
    "!ls ../../1-NCBI_references/"
   ]
  },
  {
   "cell_type": "code",
   "execution_count": null,
   "metadata": {
    "collapsed": true
   },
   "outputs": [],
   "source": [
    "%%bash\n",
    "\n",
    "#Write REFmap\n",
    "for file in $(ls ../../1-NCBI_references/* | grep \"NCBI_2018.gb$\")\n",
    "do\n",
    "    echo -e \"$file\\tgb\"\n",
    "done > chimera_REFmap.txt"
   ]
  },
  {
   "cell_type": "code",
   "execution_count": null,
   "metadata": {
    "collapsed": false
   },
   "outputs": [],
   "source": [
    "!cat chimera_REFmap.txt"
   ]
  },
  {
   "cell_type": "code",
   "execution_count": null,
   "metadata": {
    "collapsed": false,
    "scrolled": true
   },
   "outputs": [],
   "source": [
    "%%bash\n",
    "\n",
    "metaBEAT_global.py \\\n",
    "-R chimera_REFmap.txt \\\n",
    "-f \\\n",
    "-@ M.Benucci@2015.hull.ac.uk"
   ]
  },
  {
   "cell_type": "code",
   "execution_count": null,
   "metadata": {
    "collapsed": false,
    "scrolled": true
   },
   "outputs": [],
   "source": [
    "!head refs.fasta"
   ]
  },
  {
   "cell_type": "code",
   "execution_count": null,
   "metadata": {
    "collapsed": false
   },
   "outputs": [],
   "source": [
    "%%bash\n",
    "\n",
    "\n",
    "for a in $(cut -f 1 ../Querymap.txt)\n",
    "do\n",
    "    if [ -s ../$a/$a\\_trimmed.fasta ]\n",
    "    then\n",
    "        echo -e \"\\n### Detecting chimeras in $a ###\\n\"\n",
    "        mkdir $a\n",
    "        cd $a\n",
    "        vsearch --uchime_ref ../../$a/$a\\_trimmed.fasta --db ../refs.fasta \\\n",
    "        --nonchimeras $a-nonchimeras.fasta --chimeras $a-chimeras.fasta &> log \n",
    "        cd ..\n",
    "\n",
    "    else\n",
    "        echo -e \"$a is empty\"\n",
    "    fi\n",
    "done"
   ]
  },
  {
   "cell_type": "markdown",
   "metadata": {},
   "source": [
    "### Blast of non-chimera sequences"
   ]
  },
  {
   "cell_type": "code",
   "execution_count": null,
   "metadata": {
    "collapsed": false
   },
   "outputs": [],
   "source": [
    "cd .."
   ]
  },
  {
   "cell_type": "code",
   "execution_count": null,
   "metadata": {
    "collapsed": false
   },
   "outputs": [],
   "source": [
    "%%bash\n",
    "\n",
    "#Querymap\n",
    "for a in $(ls -l chimera_detection/ | grep \"^d\" | perl -ne 'chomp; @a=split(\" \"); print \"$a[-1]\\n\"')\n",
    "do\n",
    "    echo -e \"$a-nc\\tfasta\\tchimera_detection/$a/$a-nonchimeras.fasta\"\n",
    "done > nonchimera_Querymap.txt"
   ]
  },
  {
   "cell_type": "code",
   "execution_count": null,
   "metadata": {
    "collapsed": false
   },
   "outputs": [],
   "source": [
    "!cat nonchimera_Querymap.txt"
   ]
  },
  {
   "cell_type": "code",
   "execution_count": null,
   "metadata": {
    "collapsed": true
   },
   "outputs": [],
   "source": [
    "!sed '/GLOBAL/d' nonchimera_Querymap.txt > nonchimera_Querymap_final.txt"
   ]
  },
  {
   "cell_type": "code",
   "execution_count": null,
   "metadata": {
    "collapsed": false
   },
   "outputs": [],
   "source": [
    "!cat nonchimera_Querymap_final.txt"
   ]
  },
  {
   "cell_type": "markdown",
   "metadata": {},
   "source": [
    "We now run the BLAST search of the non-chimera sequences against the reference sequences we downloaded from literature and that were saved as `REFlist.txt`.\n",
    "We clustered the sequences with 97% match, retaining clusters that have a minimum of 6 sequences in each. For the identity assignment we used a minimum identity of 97% with a minimum alignment lenght of 85%."
   ]
  },
  {
   "cell_type": "code",
   "execution_count": null,
   "metadata": {
    "collapsed": false
   },
   "outputs": [],
   "source": [
    "!metaBEAT_global.py \\\n",
    "-Q nonchimera_Querymap_final.txt \\\n",
    "-R REFlist.txt \\\n",
    "--cluster --clust_match 0.97 --clust_cov 6 \\\n",
    "--blast --min_ident 0.97 --min_ali_length 0.85 \\\n",
    "-m COI -n 5 -v -@ m.benucci@2015.hull.ac.uk \\\n",
    "-o COI_28062019_merged-only_nonchimera_cl97cov6_blast_min97_ali0.85_ref > metaBEAT.log"
   ]
  },
  {
   "cell_type": "code",
   "execution_count": null,
   "metadata": {
    "collapsed": false,
    "scrolled": true
   },
   "outputs": [],
   "source": [
    "!head -n 100 metaBEAT.log"
   ]
  },
  {
   "cell_type": "code",
   "execution_count": null,
   "metadata": {
    "collapsed": false
   },
   "outputs": [],
   "source": [
    "!tail -n 50 metaBEAT.log"
   ]
  },
  {
   "cell_type": "markdown",
   "metadata": {
    "collapsed": true
   },
   "source": [
    "The final OTU table can be found in the file: \n",
    "\n",
    "`GLOBAL/BLAST_0.97/COI_28062019_merged-only_nonchimera_cl97cov6_blast_min97_ali0.85_ref-by-taxonomy-readcounts.blast.tsv`."
   ]
  },
  {
   "cell_type": "markdown",
   "metadata": {},
   "source": [
    "### Extracting now the sequences we are interested in."
   ]
  },
  {
   "cell_type": "code",
   "execution_count": null,
   "metadata": {
    "collapsed": false
   },
   "outputs": [],
   "source": [
    "import metaBEAT_global_misc_functions as mb"
   ]
  },
  {
   "cell_type": "markdown",
   "metadata": {},
   "source": [
    "Identify samples which contained reads assigned to _C. floridanus_ before filtering."
   ]
  },
  {
   "cell_type": "code",
   "execution_count": null,
   "metadata": {
    "collapsed": false,
    "scrolled": true
   },
   "outputs": [],
   "source": [
    "mb.find_target(BIOM=mb.load_BIOM('GLOBAL/BLAST_0.97/COI_28062019_merged-only_nonchimera_cl97cov6_blast_min97_ali0.85_ref-by-taxonomy-readcounts.blast.biom'), \n",
    "               target='Crangonyx_floridanus')"
   ]
  },
  {
   "cell_type": "markdown",
   "metadata": {},
   "source": [
    "The OTU by taxonomy `GLOBAL/BLAST_0.97/COI_28062019_merged-only_nonchimera_cl97cov6_blast_min97_ali0.85_ref-OTU-taxonomy.blast.tsv` shows _Crangonyx floridanus_ (_Cf_) and _Crangonyx pseudogracilis_ (_Cp_) OTUs contain 87.9% of total N of reads. 2 OTUs in particular contain 87.5% of the total N reads; respectively 1 OTU with 51.6% reads belonging to _Cf_, and 1 OTU with 35.9% belonging to _Cp_.\n",
    "\n",
    "We filter the raw OTU table, and in a given sample we remove OTUs that were not supported by at least 2% of the reads."
   ]
  },
  {
   "cell_type": "code",
   "execution_count": null,
   "metadata": {
    "collapsed": false
   },
   "outputs": [],
   "source": [
    "#load raw OTU table\n",
    "to_filter = mb.load_BIOM(table='GLOBAL/BLAST_0.97/COI_28062019_merged-only_nonchimera_cl97cov6_blast_min97_ali0.85_ref-OTU-taxonomy.blast.biom')\n",
    "\n",
    "#filter at 1%\n",
    "filtered = mb.filter_BIOM_by_per_sample_read_prop(BIOM=to_filter, min_prop=0.02)\n",
    "\n",
    "#write to file\n",
    "mb.write_BIOM(filtered, target_prefix='filtered' )\n",
    "\n",
    "#collapse OTUs by taxonomy\n",
    "filtered_collapsed = mb.collapse_biom_by_taxonomy(in_table=filtered)\n",
    "\n",
    "#write to file\n",
    "mb.write_BIOM(filtered_collapsed, target_prefix='filtered-collapsed')"
   ]
  },
  {
   "cell_type": "markdown",
   "metadata": {},
   "source": [
    "we identify samples containing sequences assigned to _C. floridanus_."
   ]
  },
  {
   "cell_type": "code",
   "execution_count": null,
   "metadata": {
    "collapsed": false,
    "scrolled": true
   },
   "outputs": [],
   "source": [
    "mb.find_target(filtered_collapsed, target='Crangonyx_floridanus')"
   ]
  },
  {
   "cell_type": "markdown",
   "metadata": {},
   "source": [
    "And we identify the samples containing sequences assigned to _C. pseudogracilis_."
   ]
  },
  {
   "cell_type": "code",
   "execution_count": null,
   "metadata": {
    "collapsed": false,
    "scrolled": true
   },
   "outputs": [],
   "source": [
    "mb.find_target(filtered_collapsed, target='Crangonyx_pseudogracilis')"
   ]
  }
 ],
 "metadata": {
  "kernelspec": {
   "display_name": "Python 2",
   "language": "python",
   "name": "python2"
  },
  "language_info": {
   "codemirror_mode": {
    "name": "ipython",
    "version": 2
   },
   "file_extension": ".py",
   "mimetype": "text/x-python",
   "name": "python",
   "nbconvert_exporter": "python",
   "pygments_lexer": "ipython2",
   "version": "2.7.6"
  }
 },
 "nbformat": 4,
 "nbformat_minor": 0
}
