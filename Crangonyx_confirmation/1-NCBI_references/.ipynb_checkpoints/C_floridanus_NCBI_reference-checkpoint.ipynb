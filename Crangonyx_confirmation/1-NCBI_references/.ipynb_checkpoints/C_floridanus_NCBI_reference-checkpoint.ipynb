{
 "cells": [
  {
   "cell_type": "markdown",
   "metadata": {},
   "source": [
    "### Downloading reference sequences from GenBank"
   ]
  },
  {
   "cell_type": "markdown",
   "metadata": {},
   "source": [
    "The first step of the pipeline is to collect all reference sequences from GenBank according to the literature as describe below."
   ]
  },
  {
   "cell_type": "code",
   "execution_count": null,
   "metadata": {
    "collapsed": false
   },
   "outputs": [],
   "source": [
    "!pwd"
   ]
  },
  {
   "cell_type": "code",
   "execution_count": null,
   "metadata": {
    "collapsed": false,
    "scrolled": false
   },
   "outputs": [],
   "source": [
    "!ls"
   ]
  },
  {
   "cell_type": "markdown",
   "metadata": {},
   "source": [
    "The files for each taxa with the accession numbers were created following the Slothouber Galbreath et al. (2010), Nagabuko et al. (2011), and Mauvisseau et al. (2018). We manually inspected all accessions to make sure all existing duplicates were removed.\n",
    "After an initial manual alignment of the records, we detected 8 sequences that had low similarity values (~82%) with either _Crangonyx floridanus_ and _Crangonyx pseudogracilis_. This value is lower than the expected similarity between the two target species (~84%), we thus decided to remove those sequences from the database on the base that they might have been misidentified.\n",
    "\n",
    "Removed records were:\n",
    "\n",
    "- AJ968905\n",
    "- AJ968906\n",
    "- AJ968907\n",
    "- AJ968908\n",
    "- AJ968909\n",
    "- AJ968910\n",
    "- AJ968911\n",
    "- EF570296"
   ]
  },
  {
   "cell_type": "code",
   "execution_count": null,
   "metadata": {
    "collapsed": false
   },
   "outputs": [],
   "source": [
    "%%file Crangonyx_accession.txt\n",
    "AJ968893\n",
    "AJ968894\n",
    "AJ968895\n",
    "AJ968896\n",
    "AJ968897\n",
    "AJ968898\n",
    "AJ968899\n",
    "AJ968900\n",
    "AJ968901\n",
    "AJ968902\n",
    "AJ968903\n",
    "AJ968904\n",
    "AB513800\n",
    "AB513801\n",
    "AB513802\n",
    "AB513803\n",
    "AB513804\n",
    "AB513805\n",
    "AB513806\n",
    "AB513807\n",
    "AB513808\n",
    "AB513809\n",
    "AB513810\n",
    "AB513811\n",
    "AB513812\n",
    "AB513813\n",
    "AB513814\n",
    "AB513815\n",
    "AB513816\n",
    "AB513817\n",
    "AB513818\n",
    "AB513819\n",
    "AB513820\n",
    "AB513821\n",
    "AB513822\n",
    "AB513823\n",
    "AB513824\n",
    "AB513825\n",
    "AB513826\n",
    "AB513827\n",
    "AB513828\n",
    "AB513829\n",
    "AB513830\n",
    "AB513831\n",
    "AB513832\n",
    "AB513833\n",
    "AB513834\n",
    "AB513835\n",
    "MK036646 \n",
    "MK036647\n",
    "MK036648\n",
    "MK036649\n",
    "MK036650\n",
    "MK036651\n",
    "MK036652\n",
    "MK036653\n",
    "MK036654\n",
    "MK036655\n",
    "MK036656\n",
    "MK036657\n",
    "MK036658\n",
    "MK036659"
   ]
  },
  {
   "cell_type": "code",
   "execution_count": null,
   "metadata": {
    "collapsed": false,
    "scrolled": true
   },
   "outputs": [],
   "source": [
    "!head -n 50 Crangonyx_accession.txt"
   ]
  },
  {
   "cell_type": "markdown",
   "metadata": {},
   "source": [
    "After creating the accession files, we fetch the records from NCBI and saving them to file in `.gb` format."
   ]
  },
  {
   "cell_type": "code",
   "execution_count": null,
   "metadata": {
    "collapsed": false
   },
   "outputs": [],
   "source": [
    "%%bash\n",
    "\n",
    "for acc in $(cat Crangonyx_accession.txt | sort -n | uniq)\n",
    "do \n",
    "    wget -O - \"http://eutils.ncbi.nlm.nih.gov/entrez/eutils/efetch.fcgi?db=nucleotide&id=${acc}&rettype=gb\"\n",
    "done > Crangonyx_NCBI_2018.gb"
   ]
  },
  {
   "cell_type": "markdown",
   "metadata": {
    "collapsed": true
   },
   "source": [
    "Following we include also the outgroup for the phylogenetic analysis and the positive taxa included in the metabarcoding:\n",
    "\n",
    "_Crangonyx islandicus_ (Kornobis et al. 2010)\n",
    "\n",
    "- HM015193\n",
    "- HM015194\n",
    "- HM015195\n",
    "- HM015196\n",
    "\n",
    "_Osmia bicornis_ (Radzeviciute et al. 2016)\n",
    "\n",
    "- KX957868\n",
    "- KX374768\n",
    "- KX957868\n",
    "\n",
    "Again we fetch all the sequences from NCBI as above, saving each taxa in individual `'gb` files."
   ]
  },
  {
   "cell_type": "code",
   "execution_count": null,
   "metadata": {
    "collapsed": false
   },
   "outputs": [],
   "source": [
    "%%file c-islandicus_accession.txt\n",
    "HM015193\n",
    "HM015194\n",
    "HM015195\n",
    "HM015196"
   ]
  },
  {
   "cell_type": "code",
   "execution_count": null,
   "metadata": {
    "collapsed": false
   },
   "outputs": [],
   "source": [
    "!head c-islandicus_accession.txt"
   ]
  },
  {
   "cell_type": "code",
   "execution_count": null,
   "metadata": {
    "collapsed": false,
    "scrolled": true
   },
   "outputs": [],
   "source": [
    "%%bash\n",
    "\n",
    "for acc in $(cat c-islandicus_accession.txt | sort -n | uniq)\n",
    "do \n",
    "    wget -O - \"http://eutils.ncbi.nlm.nih.gov/entrez/eutils/efetch.fcgi?db=nucleotide&id=${acc}&rettype=gb\"\n",
    "done > C.islandicus_NCBI_2018.gb"
   ]
  },
  {
   "cell_type": "code",
   "execution_count": null,
   "metadata": {
    "collapsed": false
   },
   "outputs": [],
   "source": [
    "%%file pos-taxa_accession.txt\n",
    "KX957868\n",
    "KX374768\n",
    "KX957868"
   ]
  },
  {
   "cell_type": "code",
   "execution_count": null,
   "metadata": {
    "collapsed": false
   },
   "outputs": [],
   "source": [
    "%%bash\n",
    "\n",
    "for acc in $(cat pos-taxa_accession.txt | sort -n | uniq)\n",
    "do \n",
    "    wget -O - \"http://eutils.ncbi.nlm.nih.gov/entrez/eutils/efetch.fcgi?db=nucleotide&id=${acc}&rettype=gb\"\n",
    "done > O.bicornis_NCBI_2018.gb"
   ]
  }
 ],
 "metadata": {
  "kernelspec": {
   "display_name": "Python 2",
   "language": "python",
   "name": "python2"
  },
  "language_info": {
   "codemirror_mode": {
    "name": "ipython",
    "version": 2
   },
   "file_extension": ".py",
   "mimetype": "text/x-python",
   "name": "python",
   "nbconvert_exporter": "python",
   "pygments_lexer": "ipython2",
   "version": "2.7.6"
  }
 },
 "nbformat": 4,
 "nbformat_minor": 0
}
