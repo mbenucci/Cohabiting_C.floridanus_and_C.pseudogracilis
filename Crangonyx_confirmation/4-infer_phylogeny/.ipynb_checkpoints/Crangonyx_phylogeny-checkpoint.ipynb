{
 "cells": [
  {
   "cell_type": "markdown",
   "metadata": {},
   "source": [
    "### Maximum Likelihood tree inference"
   ]
  },
  {
   "cell_type": "markdown",
   "metadata": {},
   "source": [
    "For this step we are using Reprophylo (Szitenberg et al. 2015), the manual can be found [here](https://docs.google.com/document/d/1Q-8B0cvkZw2zMkuP0Af4zZ7FiAvBQPDdGbrLLMgtx_4/edit#)."
   ]
  },
  {
   "cell_type": "markdown",
   "metadata": {},
   "source": [
    "Sanger sequences generated for this study:\n",
    "\n",
    " - `sequences/c.flor-c.pse_SANGER.fasta` and `sequences/c.flor-c.pse_SANGER_2.fasta`\n",
    " \n",
    " were collated into a single file:\n",
    " - `sequences/c.flor_c.pse_SANGER_full.fasta`\n",
    " \n",
    " The haplotypes from the metabarcoding data are cointained in:\n",
    " - `../3-extract_haplotypes/Crangonyx_haplotypes/Crangonyx_from_metaBEAT.fasta`\n",
    " \n",
    "Other Cragnonyx COI sequences are at:\n",
    " - `../1-download_reference/Crangonyx_NCBI_2018.gb`\n",
    " - `../1-download_reference/C.islandicus_NCBI_2018.gb`"
   ]
  },
  {
   "cell_type": "markdown",
   "metadata": {},
   "source": [
    "Import reprophylo functions."
   ]
  },
  {
   "cell_type": "code",
   "execution_count": null,
   "metadata": {
    "collapsed": true
   },
   "outputs": [],
   "source": [
    "from reprophylo import *"
   ]
  },
  {
   "cell_type": "markdown",
   "metadata": {},
   "source": [
    "Specifying the locus/loci to be used in the analyses."
   ]
  },
  {
   "cell_type": "markdown",
   "metadata": {},
   "source": [
    "The Genbank input files may contain sequences for a range of genes (say you have downloaded full mitochondrial genomes), but you are only interested in a particular gene (say COI). \n",
    "\n",
    "So, first we'll want to get an overview of all the genes present in your input Genbank file. Reprophylo has a function for that.\n",
    "\n",
    "The function will write tentative locus descriptions to the file `loci.csv`, which you may modify, e.g. exclude certain genes from the loci file, or synonymize gene names if necessary."
   ]
  },
  {
   "cell_type": "code",
   "execution_count": null,
   "metadata": {
    "collapsed": true
   },
   "outputs": [],
   "source": [
    "!cat ../1-NCBI_references/Crangonyx_NCBI_2018.gb ../1-NCBI_references/C.islandicus_NCBI_2018.gb > ../NCBI_records.gb"
   ]
  },
  {
   "cell_type": "code",
   "execution_count": null,
   "metadata": {
    "collapsed": false
   },
   "outputs": [],
   "source": [
    "list_loci_in_genbank('../NCBI_records.gb', 'loci.csv')"
   ]
  },
  {
   "cell_type": "markdown",
   "metadata": {},
   "source": [
    "The function summarizes all gene names detected in the Genbank file. Reprophylo internally already contains a list of synoyms for common genes and attempts to summarize all unique gene names in the file `loci.csv`. "
   ]
  },
  {
   "cell_type": "code",
   "execution_count": null,
   "metadata": {
    "collapsed": false
   },
   "outputs": [],
   "source": [
    "!cat loci.csv"
   ]
  },
  {
   "cell_type": "markdown",
   "metadata": {},
   "source": [
    "Based on the file `loci.csv` produced by the function we prepare a file `target_loci.csv` that contains all synonyms for the COI gene that appear in the Genbank file. "
   ]
  },
  {
   "cell_type": "code",
   "execution_count": null,
   "metadata": {
    "collapsed": false
   },
   "outputs": [],
   "source": [
    "%%file target_loci.csv\n",
    "dna,CDS,MT-CO1,coi,COI,1"
   ]
  },
  {
   "cell_type": "markdown",
   "metadata": {},
   "source": [
    "Start a new Reprophylo project, specifying/characterizing the loci to be processed via the `loci.csv` file that we have prepared."
   ]
  },
  {
   "cell_type": "code",
   "execution_count": null,
   "metadata": {
    "collapsed": false
   },
   "outputs": [],
   "source": [
    "pj = Project('target_loci.csv', pickle='pickle_file/crangonyx_project.pickle', git=False)"
   ]
  },
  {
   "cell_type": "markdown",
   "metadata": {},
   "source": [
    "Check if the Reprophylo project was created correctly."
   ]
  },
  {
   "cell_type": "code",
   "execution_count": null,
   "metadata": {
    "collapsed": false
   },
   "outputs": [],
   "source": [
    "print pj"
   ]
  },
  {
   "cell_type": "markdown",
   "metadata": {},
   "source": [
    "Reading in the sequences from Genbank format."
   ]
  },
  {
   "cell_type": "code",
   "execution_count": null,
   "metadata": {
    "collapsed": false
   },
   "outputs": [],
   "source": [
    "input_files=['../NCBI_records.gb']\n",
    "pj.read_embl_genbank(input_files)"
   ]
  },
  {
   "cell_type": "markdown",
   "metadata": {},
   "source": [
    "All sequences are now stored in memory as 'sequence records'. "
   ]
  },
  {
   "cell_type": "markdown",
   "metadata": {},
   "source": [
    "How many sequences does our dataset contain?"
   ]
  },
  {
   "cell_type": "code",
   "execution_count": null,
   "metadata": {
    "collapsed": false
   },
   "outputs": [],
   "source": [
    "print len(pj.records)"
   ]
  },
  {
   "cell_type": "markdown",
   "metadata": {},
   "source": [
    "Reading in the new sequences produced from Sanger sequencing or metabarcoding. They will be added to the sequence records with the id 'denovo'"
   ]
  },
  {
   "cell_type": "code",
   "execution_count": null,
   "metadata": {
    "collapsed": false
   },
   "outputs": [],
   "source": [
    "denovo_sequence_filenames=['./sequences/c.flor_c.pse_SANGER.nr.fasta', \n",
    " '../3-extract_haplotypes/Crangonyx_haplotypes/Crangonyx_from_metaBEAT.fasta']\n",
    "\n",
    "pj.read_denovo(denovo_sequence_filenames, 'dna', format='fasta')"
   ]
  },
  {
   "cell_type": "code",
   "execution_count": null,
   "metadata": {
    "collapsed": false
   },
   "outputs": [],
   "source": [
    "print len(pj.records)"
   ]
  },
  {
   "cell_type": "markdown",
   "metadata": {},
   "source": [
    "We are assuming that the sequences that came from Genbank are already in the correct orientation, but we should check that our custom sequences need to be inverted. "
   ]
  },
  {
   "cell_type": "markdown",
   "metadata": {},
   "source": [
    "We'll use the `blast` program and a few functions to do that."
   ]
  },
  {
   "cell_type": "markdown",
   "metadata": {},
   "source": [
    "`blastn` is installed in the image. Otherwise on ubuntu install like so:"
   ]
  },
  {
   "cell_type": "code",
   "execution_count": null,
   "metadata": {
    "collapsed": false
   },
   "outputs": [],
   "source": [
    "!apt-get install ncbi-blast+"
   ]
  },
  {
   "cell_type": "code",
   "execution_count": null,
   "metadata": {
    "collapsed": false
   },
   "outputs": [],
   "source": [
    "!mkdir temp"
   ]
  },
  {
   "cell_type": "markdown",
   "metadata": {},
   "source": [
    "Write all sequences to file `temp.fasta`."
   ]
  },
  {
   "cell_type": "code",
   "execution_count": null,
   "metadata": {
    "collapsed": true
   },
   "outputs": [],
   "source": [
    "from Bio import SeqIO\n",
    "\n",
    "output_handle = open(\"temp/crangonyx_test.fasta\", \"w\")\n",
    "SeqIO.write(pj.records, output_handle, \"fasta\")\n",
    "output_handle.close()"
   ]
  },
  {
   "cell_type": "markdown",
   "metadata": {},
   "source": [
    "Convert `temp.fasta` to blast database."
   ]
  },
  {
   "cell_type": "code",
   "execution_count": null,
   "metadata": {
    "collapsed": false
   },
   "outputs": [],
   "source": [
    "!makeblastdb -in temp/crangonyx_test.fasta -dbtype nucl -out temp/all"
   ]
  },
  {
   "cell_type": "markdown",
   "metadata": {},
   "source": [
    "Perform blast search."
   ]
  },
  {
   "cell_type": "code",
   "execution_count": null,
   "metadata": {
    "collapsed": false
   },
   "outputs": [],
   "source": [
    "!blastn -db temp/all -query temp/crangonyx_test.fasta -outfmt '6 qseqid sseqid qstart qend sstart send' -out temp/crangonyx_test.blastn.out"
   ]
  },
  {
   "cell_type": "markdown",
   "metadata": {},
   "source": [
    "Identify any denovo sequences that match with non-denovo sequences in reverse complement."
   ]
  },
  {
   "cell_type": "code",
   "execution_count": null,
   "metadata": {
    "collapsed": false
   },
   "outputs": [],
   "source": [
    "blastout=open('temp/crangonyx_test.blastn.out')\n",
    "\n",
    "to_invert=[]\n",
    "for line in blastout:\n",
    "    col=line.strip().split(\"\\t\")\n",
    "    if 'denovo' in col[0]:\n",
    "#        print col\n",
    "        if (int(col[-2]) > int(col[-1])) and (not 'denovo' in col[1]):\n",
    "#            print \"## invert ##\"\n",
    "            to_invert.append(col[0])\n",
    "        \n",
    "to_invert=list(set(to_invert))\n",
    "print \"Records to invert:\\n%s\" %to_invert\n",
    "\n",
    "blastout.close()"
   ]
  },
  {
   "cell_type": "markdown",
   "metadata": {},
   "source": [
    "Reverse complement records."
   ]
  },
  {
   "cell_type": "code",
   "execution_count": null,
   "metadata": {
    "collapsed": false
   },
   "outputs": [],
   "source": [
    "if to_invert:\n",
    "    print \"There are records to invert\\n\"\n",
    "    for r in pj.records:\n",
    "        if r.id in to_invert:\n",
    "            print \"\\t-> %s\" %r.id\n",
    "            r.seq = r.seq.reverse_complement()\n",
    "            to_invert.remove(r.id)\n",
    "else:\n",
    "    print \"Nothing to invert\\n\""
   ]
  },
  {
   "cell_type": "markdown",
   "metadata": {},
   "source": [
    "Remove temporal directory."
   ]
  },
  {
   "cell_type": "code",
   "execution_count": null,
   "metadata": {
    "collapsed": true
   },
   "outputs": [],
   "source": [
    "!rm -rf temp"
   ]
  },
  {
   "cell_type": "markdown",
   "metadata": {},
   "source": [
    "Now, lets print a summary of the number of sequences per species."
   ]
  },
  {
   "cell_type": "code",
   "execution_count": null,
   "metadata": {
    "collapsed": false
   },
   "outputs": [],
   "source": [
    "pj.species_vs_loci('species.csv')"
   ]
  },
  {
   "cell_type": "code",
   "execution_count": null,
   "metadata": {
    "collapsed": false
   },
   "outputs": [],
   "source": [
    "!cat species.csv"
   ]
  },
  {
   "cell_type": "markdown",
   "metadata": {},
   "source": [
    "Some sequences seem to be missing. This is because the `species_by_loci` function only considers sequence records that are identified with the correct gene identifier. We need to add this for our custom sequences so that reprophylo understands that these sequences are to be analysed together with the COI sequences that we have loaded from the Genbank data."
   ]
  },
  {
   "cell_type": "code",
   "execution_count": null,
   "metadata": {
    "collapsed": true
   },
   "outputs": [],
   "source": [
    "for r in pj.records:\n",
    "    if 'denovo' in r.id:\n",
    "        pj.add_feature_to_record(r.id, 'CDS', qualifiers={'gene': 'MT-CO1'})"
   ]
  },
  {
   "cell_type": "code",
   "execution_count": null,
   "metadata": {
    "collapsed": true
   },
   "outputs": [],
   "source": [
    "pj.species_vs_loci('species.csv')"
   ]
  },
  {
   "cell_type": "code",
   "execution_count": null,
   "metadata": {
    "collapsed": false
   },
   "outputs": [],
   "source": [
    "!cat species.csv"
   ]
  },
  {
   "cell_type": "markdown",
   "metadata": {},
   "source": [
    "Better, but our custom sequences are now assigned to an undefied species. We'll need to add the species to the record. We will look in the original header of the sequence for the species name and add the appropriate organism name to the sequence record."
   ]
  },
  {
   "cell_type": "code",
   "execution_count": null,
   "metadata": {
    "collapsed": false
   },
   "outputs": [],
   "source": [
    "for r in pj.records:\n",
    "    source=r.features[0]\n",
    "    if 'denovo' in r.id:\n",
    "        if 'floridanus' in source.qualifiers['original_id'][0]:\n",
    "           r.features[0].qualifiers['organism'] = ['Crangonyx floridanus']\n",
    "        elif 'pseudogracilis' in source.qualifiers['original_id'][0]:\n",
    "            r.features[0].qualifiers['organism'] = ['Crangonyx pseudogracilis']\n"
   ]
  },
  {
   "cell_type": "code",
   "execution_count": null,
   "metadata": {
    "collapsed": true
   },
   "outputs": [],
   "source": [
    "pj.species_vs_loci('species.csv')"
   ]
  },
  {
   "cell_type": "code",
   "execution_count": null,
   "metadata": {
    "collapsed": false
   },
   "outputs": [],
   "source": [
    "!cat species.csv"
   ]
  },
  {
   "cell_type": "markdown",
   "metadata": {},
   "source": [
    "Now, we produce some stats for the sequences in our dataset."
   ]
  },
  {
   "cell_type": "code",
   "execution_count": null,
   "metadata": {
    "collapsed": true
   },
   "outputs": [],
   "source": [
    "pj.extract_by_locus()"
   ]
  },
  {
   "cell_type": "code",
   "execution_count": null,
   "metadata": {
    "collapsed": false,
    "scrolled": true
   },
   "outputs": [],
   "source": [
    "%matplotlib inline\n",
    "pj.report_seq_stats()\n"
   ]
  },
  {
   "cell_type": "markdown",
   "metadata": {},
   "source": [
    "The sequences in the dataset are of different lengths. Sequences downloaded from Genbank (generated by Slothouber Galbreath et al. 2010; Nagabuko et al. 2011) have quite a broad range up to the full 658bp-long COI barcoding region (Folmer et al. 1994). The Sanger sequences produced for this study were also based on the full length COI barcode. Sequences obtained via eDNA metabarcoding instead are the shorter Leray fragment (313bp) (Leray et al. 2013)."
   ]
  },
  {
   "cell_type": "markdown",
   "metadata": {},
   "source": [
    "We will generate three separate alignments.\n",
    " - 'ALL': All sequences from Genbank and current study (Sanger Folmer- and metabarcoding mini-barcode fragment)\n",
    " - 'FOLMER': Sequences from Genbank and current study Sanger Folmer fragments only\n",
    " - 'MINIBC': Sequences from Genbank and current study metabarcoding mini-barcode fragments only"
   ]
  },
  {
   "cell_type": "markdown",
   "metadata": {},
   "source": [
    "Configure and run sequence alignment 'ALL' with mafft."
   ]
  },
  {
   "cell_type": "code",
   "execution_count": null,
   "metadata": {
    "collapsed": false
   },
   "outputs": [],
   "source": [
    "mafft_linsi = AlnConf(pj, \n",
    "                      method_name='ALL', \n",
    "                      CDSAlign=False, \n",
    "                      program_name='mafft', \n",
    "                      cmd='mafft', \n",
    "                      loci=['MT-CO1'], \n",
    "                      cline_args={'localpair': True, 'maxiterate': 1000})"
   ]
  },
  {
   "cell_type": "markdown",
   "metadata": {},
   "source": [
    "Execute sequence alignment process."
   ]
  },
  {
   "cell_type": "code",
   "execution_count": null,
   "metadata": {
    "collapsed": true
   },
   "outputs": [],
   "source": [
    "pj.align([mafft_linsi])"
   ]
  },
  {
   "cell_type": "markdown",
   "metadata": {},
   "source": [
    "Display information about the alignment method."
   ]
  },
  {
   "cell_type": "code",
   "execution_count": null,
   "metadata": {
    "collapsed": false
   },
   "outputs": [],
   "source": [
    "print pj.used_methods['ALL']"
   ]
  },
  {
   "cell_type": "markdown",
   "metadata": {},
   "source": [
    "Produce the alignemnt 'FOLMER', i.e. remove all minibarcode sequences. These have the ids >= `denovo6`."
   ]
  },
  {
   "cell_type": "code",
   "execution_count": null,
   "metadata": {
    "collapsed": false,
    "scrolled": true
   },
   "outputs": [],
   "source": [
    "for r in pj.records:\n",
    "    if 'denovo' in r.id:\n",
    "        print r.id,r.description"
   ]
  },
  {
   "cell_type": "code",
   "execution_count": null,
   "metadata": {
    "collapsed": false
   },
   "outputs": [],
   "source": [
    "#Empty sequence object\n",
    "seqobject = []\n",
    "\n",
    "#Add all records except the record ids >= 'denovo6' to new object\n",
    "for r in pj.records_by_locus['MT-CO1']:\n",
    "    if 'denovo' in r.id:\n",
    "        denovoID=int(r.id.replace('denovo','').replace('_f0',''))\n",
    "#        print denovoID\n",
    "        if denovoID >= 6:\n",
    "            pass\n",
    "        else:\n",
    "            seqobject.append(r)\n",
    "    else:\n",
    "        seqobject.append(r)\n",
    "\n",
    "#Replace original object with new \n",
    "pj.records_by_locus['MT-CO1'] = seqobject"
   ]
  },
  {
   "cell_type": "markdown",
   "metadata": {},
   "source": [
    "Configure and run alignment."
   ]
  },
  {
   "cell_type": "code",
   "execution_count": null,
   "metadata": {
    "collapsed": false
   },
   "outputs": [],
   "source": [
    "mafft_linsi = AlnConf(pj, \n",
    "                      method_name='FOLMER', \n",
    "                      CDSAlign=False, \n",
    "                      program_name='mafft', \n",
    "                      cmd='mafft', \n",
    "                      loci=['MT-CO1'], \n",
    "                      cline_args={'localpair': True, 'maxiterate': 1000})"
   ]
  },
  {
   "cell_type": "code",
   "execution_count": null,
   "metadata": {
    "collapsed": true
   },
   "outputs": [],
   "source": [
    "pj.align([mafft_linsi])"
   ]
  },
  {
   "cell_type": "markdown",
   "metadata": {},
   "source": [
    "Restore original alignemnt object."
   ]
  },
  {
   "cell_type": "code",
   "execution_count": null,
   "metadata": {
    "collapsed": true
   },
   "outputs": [],
   "source": [
    "pj.extract_by_locus()"
   ]
  },
  {
   "cell_type": "markdown",
   "metadata": {},
   "source": [
    "Produce the alignemnt 'MINIBC', i.e. remove all minibarcode sequences. These have ids <= `denovo5`."
   ]
  },
  {
   "cell_type": "code",
   "execution_count": null,
   "metadata": {
    "collapsed": false
   },
   "outputs": [],
   "source": [
    "#Empty sequence object\n",
    "seqobject = []\n",
    "\n",
    "#Add all records except the record ids >= 'denovo6' to new object\n",
    "for r in pj.records_by_locus['MT-CO1']:\n",
    "    if 'denovo' in r.id:\n",
    "        denovoID=int(r.id.replace('denovo','').replace('_f0',''))\n",
    "#        print denovoID\n",
    "        if denovoID <= 5:\n",
    "            pass\n",
    "        else:\n",
    "            seqobject.append(r)\n",
    "    else:\n",
    "        seqobject.append(r)\n",
    "\n",
    "#Replace original object with new \n",
    "pj.records_by_locus['MT-CO1'] = seqobject"
   ]
  },
  {
   "cell_type": "markdown",
   "metadata": {},
   "source": [
    "Configure and run alignment."
   ]
  },
  {
   "cell_type": "code",
   "execution_count": null,
   "metadata": {
    "collapsed": false
   },
   "outputs": [],
   "source": [
    "mafft_linsi = AlnConf(pj, \n",
    "                      method_name='MINIBC', \n",
    "                      CDSAlign=False, \n",
    "                      program_name='mafft', \n",
    "                      cmd='mafft', \n",
    "                      loci=['MT-CO1'], \n",
    "                      cline_args={'localpair': True, 'maxiterate': 1000})"
   ]
  },
  {
   "cell_type": "code",
   "execution_count": null,
   "metadata": {
    "collapsed": true
   },
   "outputs": [],
   "source": [
    "pj.align([mafft_linsi])"
   ]
  },
  {
   "cell_type": "markdown",
   "metadata": {},
   "source": [
    "Restore original alignment object."
   ]
  },
  {
   "cell_type": "code",
   "execution_count": null,
   "metadata": {
    "collapsed": true
   },
   "outputs": [],
   "source": [
    "pj.extract_by_locus()"
   ]
  },
  {
   "cell_type": "markdown",
   "metadata": {},
   "source": [
    "Write alignments to files for checking in e.g. `Aliview`."
   ]
  },
  {
   "cell_type": "code",
   "execution_count": null,
   "metadata": {
    "collapsed": false
   },
   "outputs": [],
   "source": [
    "pj.write_alns(id=['record_id', 'source_organism'], format='fasta')"
   ]
  },
  {
   "cell_type": "markdown",
   "metadata": {},
   "source": [
    "Trim each of the three alignemnts to remove any positions that are not covered by at least 70, 80, and 90% of the records."
   ]
  },
  {
   "cell_type": "code",
   "execution_count": null,
   "metadata": {
    "collapsed": false
   },
   "outputs": [],
   "source": [
    "gt70trimal = TrimalConf(pj, \n",
    "                        method_name='gt70', \n",
    "                        program_name='trimal', \n",
    "                        cmd='trimal', \n",
    "                        alns=['MT-CO1@ALL', 'MT-CO1@FOLMER', 'MT-CO1@MINIBC'], \n",
    "                        trimal_commands={'gt': 0.7})"
   ]
  },
  {
   "cell_type": "code",
   "execution_count": null,
   "metadata": {
    "collapsed": false
   },
   "outputs": [],
   "source": [
    "gt80trimal = TrimalConf(pj, \n",
    "                        method_name='gt80', \n",
    "                        program_name='trimal', \n",
    "                        cmd='trimal', \n",
    "                        alns=['MT-CO1@ALL', 'MT-CO1@FOLMER', 'MT-CO1@MINIBC'], \n",
    "                        trimal_commands={'gt': 0.8})"
   ]
  },
  {
   "cell_type": "code",
   "execution_count": null,
   "metadata": {
    "collapsed": false
   },
   "outputs": [],
   "source": [
    "gt90trimal = TrimalConf(pj, \n",
    "                        method_name='gt90', \n",
    "                        program_name='trimal', \n",
    "                        cmd='trimal', \n",
    "                        alns=['MT-CO1@ALL', 'MT-CO1@FOLMER', 'MT-CO1@MINIBC'], \n",
    "                        trimal_commands={'gt': 0.9})"
   ]
  },
  {
   "cell_type": "code",
   "execution_count": null,
   "metadata": {
    "collapsed": false
   },
   "outputs": [],
   "source": [
    "pj.trim([gt70trimal,gt80trimal,gt90trimal])"
   ]
  },
  {
   "cell_type": "code",
   "execution_count": null,
   "metadata": {
    "collapsed": false
   },
   "outputs": [],
   "source": [
    "print pj.used_methods['gt90']"
   ]
  },
  {
   "cell_type": "code",
   "execution_count": null,
   "metadata": {
    "collapsed": false
   },
   "outputs": [],
   "source": [
    "pj.write_trimmed_alns(id=['record_id', 'source_organism'], format='fasta')"
   ]
  },
  {
   "cell_type": "markdown",
   "metadata": {},
   "source": [
    "Configure tree building."
   ]
  },
  {
   "cell_type": "code",
   "execution_count": null,
   "metadata": {
    "collapsed": false
   },
   "outputs": [],
   "source": [
    "raxml = RaxmlConf(pj, method_name='mafftLinsi-trimal', \n",
    "                 program_name='raxmlHPC-PTHREADS-SSE3',\n",
    "                 keepfiles=True,\n",
    "                 cmd='raxmlHPC-PTHREADS-SSE3',\n",
    "                 preset='fa',\n",
    "                 alns=['MT-CO1@FOLMER@gt80','MT-CO1@ALL@gt80','MT-CO1@MINIBC@gt80',\n",
    "                      'MT-CO1@FOLMER@gt70','MT-CO1@ALL@gt70','MT-CO1@MINIBC@gt70',\n",
    "                      'MT-CO1@FOLMER@gt90','MT-CO1@ALL@gt90','MT-CO1@MINIBC@gt90'],\n",
    "                 model='GAMMA',\n",
    "                 threads=3,\n",
    "                 cline_args={'-#': 100})"
   ]
  },
  {
   "cell_type": "code",
   "execution_count": null,
   "metadata": {
    "collapsed": true
   },
   "outputs": [],
   "source": [
    "pj.tree([raxml])"
   ]
  },
  {
   "cell_type": "code",
   "execution_count": null,
   "metadata": {
    "collapsed": false,
    "scrolled": true
   },
   "outputs": [],
   "source": [
    "print pj.used_methods['mafftLinsi-trimal']"
   ]
  },
  {
   "cell_type": "markdown",
   "metadata": {},
   "source": [
    "Pickle the project."
   ]
  },
  {
   "cell_type": "code",
   "execution_count": null,
   "metadata": {
    "collapsed": false
   },
   "outputs": [],
   "source": [
    "pickle_pj(pj, 'pickle_file/crangonyx_project.pickle')"
   ]
  },
  {
   "cell_type": "markdown",
   "metadata": {},
   "source": [
    "## Annotate ML trees."
   ]
  },
  {
   "cell_type": "markdown",
   "metadata": {},
   "source": [
    "Define outgroups."
   ]
  },
  {
   "cell_type": "code",
   "execution_count": null,
   "metadata": {
    "collapsed": false
   },
   "outputs": [],
   "source": [
    "!cat species.csv"
   ]
  },
  {
   "cell_type": "code",
   "execution_count": null,
   "metadata": {
    "collapsed": true
   },
   "outputs": [],
   "source": [
    "pj.add_qualifier_from_source('organism')\n"
   ]
  },
  {
   "cell_type": "code",
   "execution_count": null,
   "metadata": {
    "collapsed": true
   },
   "outputs": [],
   "source": [
    "for species in ['Synurella','Crangonyx_islandicus']:\n",
    "    pj.if_this_then_that(species, 'organism', 'outgroup', 'outgroup',\n",
    "                         mode='part')"
   ]
  },
  {
   "cell_type": "markdown",
   "metadata": {},
   "source": [
    "Specify colors for branchsupport."
   ]
  },
  {
   "cell_type": "code",
   "execution_count": null,
   "metadata": {
    "collapsed": true
   },
   "outputs": [],
   "source": [
    "supports = {'black': [100,95],\n",
    "            'dimgray': [95,75],\n",
    "            'silver': [75,50]}"
   ]
  },
  {
   "cell_type": "markdown",
   "metadata": {},
   "source": [
    "Add a new qualifier 'origin' that contains either 'Sanger' or 'metabarcoding' for the newly generated sequences. Also we add another qualifier 'origin_abr' that contains the symbols * or +, respectively.\n",
    "\n"
   ]
  },
  {
   "cell_type": "code",
   "execution_count": null,
   "metadata": {
    "collapsed": false
   },
   "outputs": [],
   "source": [
    "for r in pj.records:\n",
    "    if 'denovo' in r.id:\n",
    "        print r.id\n",
    "        ## all the Sanger sequences contain the string 'HCO2198' in the sequence header\n",
    "        if 'SANGER' in r.description:\n",
    "            print \"origin -> Sanger\"\n",
    "            for f in r.features:\n",
    "                f.qualifiers['origin'] = ['Sanger']\n",
    "                f.qualifiers['origin_abr'] = ['s']\n",
    "        ## if they are don't contain 'HCO2198' they originate from metabarcoding\n",
    "        else:\n",
    "            print \"origin -> metabarcoding\"\n",
    "            for f in r.features:\n",
    "                f.qualifiers['origin'] = ['metabarcoding']\n",
    "                f.qualifiers['origin_abr'] = ['+']\n",
    "    #if they are not 'denovo' then they were from a previous study\n",
    "    else:\n",
    "        print r.id\n",
    "        print \"origin -> previous study\"\n",
    "        for f in r.features:\n",
    "            f.qualifiers['origin'] = ['']\n",
    "            f.qualifiers['origin_abr'] = ['']"
   ]
  },
  {
   "cell_type": "code",
   "execution_count": null,
   "metadata": {
    "collapsed": false
   },
   "outputs": [],
   "source": [
    "pj.propagate_metadata()"
   ]
  },
  {
   "cell_type": "markdown",
   "metadata": {},
   "source": [
    "Refine tree annotation."
   ]
  },
  {
   "cell_type": "markdown",
   "metadata": {},
   "source": [
    "Format tree to add symbols * or + to leaf name to indicate 'Sanger' or 'metabarcoding' sequences, respectively."
   ]
  },
  {
   "cell_type": "code",
   "execution_count": null,
   "metadata": {
    "collapsed": false
   },
   "outputs": [],
   "source": [
    "pj.clear_tree_annotations()\n",
    "pj.annotate('.', 'outgroup', 'outgroup', \n",
    "            ['source_organism','record_id','origin_abr'], \n",
    "            node_support_dict=supports, multifurc=10,\n",
    "            html='./mafftLinsi-trimal-raxml.html')"
   ]
  },
  {
   "cell_type": "markdown",
   "metadata": {},
   "source": [
    "Color the tree labels according to origin of the sequences."
   ]
  },
  {
   "cell_type": "code",
   "execution_count": null,
   "metadata": {
    "collapsed": true
   },
   "outputs": [],
   "source": [
    "leaf_colors = {'Sanger':'red', 'metabarcoding': 'blue'}"
   ]
  },
  {
   "cell_type": "code",
   "execution_count": null,
   "metadata": {
    "collapsed": false
   },
   "outputs": [],
   "source": [
    "pj.clear_tree_annotations()\n",
    "pj.annotate('.', 'mid', 'mid', \n",
    "            ['source_organism', 'record_id'], \n",
    "            node_support_dict=supports, multifurc=50, #None\n",
    "            leaf_node_color_meta = 'origin', leaf_label_colors = leaf_colors,\n",
    "            html='./mafftLinsi-trimal-raxml.html')"
   ]
  },
  {
   "cell_type": "markdown",
   "metadata": {},
   "source": [
    "Add haplotype abbreviations to records to be used as tree tip labels."
   ]
  },
  {
   "cell_type": "code",
   "execution_count": null,
   "metadata": {
    "collapsed": false,
    "scrolled": true
   },
   "outputs": [],
   "source": [
    "MB_count={'Cp':1, 'Cf':1}\n",
    "FO_count={'Cp':1, 'Cf':1}\n",
    "for r in pj.records:\n",
    "    print r.id,r.features[0].qualifiers['organism'][0]\n",
    "\n",
    "    if r.features[0].qualifiers['organism'][0].split(\" \")[1] in ['pseudogracilis','floridanus','islandicus']:\n",
    "        sp_prefix = r.features[0].qualifiers['organism'][0].split(\" \")[0][0]+r.features[0].qualifiers['organism'][0].split(\" \")[1][0]\n",
    "        if 'denovo' in r.id:\n",
    "            if 'metabarcoding' in r.features[0].qualifiers['origin']:\n",
    "                for f in r.features:\n",
    "                    f.qualifiers['label'] = [r.description.split(\"|\")[1]]\n",
    "                print r.features[0].qualifiers['label']\n",
    "                MB_count[sp_prefix]+=1\n",
    "            if 'Sanger' in r.features[0].qualifiers['origin']:\n",
    "                for f in r.features:\n",
    "                    f.qualifiers['label'] = [sp_prefix+'_UK-Sanger_'+\"%02d\" %FO_count[sp_prefix]]\n",
    "                print r.features[0].qualifiers['label']\n",
    "                FO_count[sp_prefix]+=1\n",
    "        elif r.id.startswith('AB') or r.id.startswith('AJ') or r.id.startswith('MK'):\n",
    "            for f in r.features:\n",
    "                f.qualifiers['label'] = [sp_prefix+'_'+r.features[0].qualifiers['country'][0][:3]+'_'+r.features[0].qualifiers['isolate'][0]]\n",
    "            print r.features[0].qualifiers['label']\n",
    "        elif r.id.startswith('EF'):\n",
    "            for f in r.features:\n",
    "                f.qualifiers['label'] = [sp_prefix+'_'+r.features[0].qualifiers['country'][0][:3]+'_'+r.features[0].qualifiers['specimen_voucher'][0]]\n",
    "#                f.qualifiers['label'] = r.features[0].qualifiers['specimen_voucher']\n",
    "            print r.features[0].qualifiers['label']\n",
    "        else:\n",
    "            for f in r.features:\n",
    "                f.qualifiers['label'] = [sp_prefix+'_'+r.features[0].qualifiers['isolate'][0]]\n",
    "            print r.features[0].qualifiers['label']\n",
    "    else:\n",
    "        for f in r.features:\n",
    "            f.qualifiers['label'] = r.features[0].qualifiers['organism']\n",
    "        print r.features[0].qualifiers['label']"
   ]
  },
  {
   "cell_type": "code",
   "execution_count": null,
   "metadata": {
    "collapsed": true
   },
   "outputs": [],
   "source": [
    "pj.propagate_metadata()"
   ]
  },
  {
   "cell_type": "code",
   "execution_count": null,
   "metadata": {
    "collapsed": false
   },
   "outputs": [],
   "source": [
    "pj.clear_tree_annotations()\n",
    "pj.annotate('.', 'outgroup', 'outgroup', \n",
    "            ['label'], \n",
    "            node_support_dict=supports, multifurc=None,\n",
    "            leaf_node_color_meta = 'origin', leaf_label_colors = leaf_colors,\n",
    "            scale = 1000,\n",
    "           html='./mafftLinsi-trimal-raxml.html')"
   ]
  },
  {
   "cell_type": "markdown",
   "metadata": {},
   "source": [
    "Write out alignments again, adding the new label names."
   ]
  },
  {
   "cell_type": "code",
   "execution_count": null,
   "metadata": {
    "collapsed": false
   },
   "outputs": [],
   "source": [
    "pj.write_alns(id=['record_id', 'label'], format='fasta')"
   ]
  },
  {
   "cell_type": "code",
   "execution_count": null,
   "metadata": {
    "collapsed": false
   },
   "outputs": [],
   "source": [
    "pj.write_trimmed_alns(id=['record_id', 'label'], format='fasta')"
   ]
  },
  {
   "cell_type": "markdown",
   "metadata": {},
   "source": [
    "Copy phylogenetic trees and underlying alignments in separate directory as supplement for the paper."
   ]
  },
  {
   "cell_type": "code",
   "execution_count": null,
   "metadata": {
    "collapsed": false
   },
   "outputs": [],
   "source": [
    "mkdir supplementary"
   ]
  },
  {
   "cell_type": "code",
   "execution_count": null,
   "metadata": {
    "collapsed": false
   },
   "outputs": [],
   "source": [
    "%%bash\n",
    "\n",
    "#copy and rename phylogenies\n",
    "for p in $(ls -1 *.png)\n",
    "do\n",
    "    base=$(echo $p | cut -d \"_\" -f 2-)\n",
    "    cp $p supplementary/RAxML_GTRGAMMA-$base\n",
    "done\n",
    "\n",
    "#copy alignments\n",
    "cp MT-CO1* supplementary/"
   ]
  },
  {
   "cell_type": "code",
   "execution_count": null,
   "metadata": {
    "collapsed": false
   },
   "outputs": [],
   "source": [
    "!mkdir supplementary/RAxML/"
   ]
  },
  {
   "cell_type": "code",
   "execution_count": null,
   "metadata": {
    "collapsed": false
   },
   "outputs": [],
   "source": [
    "!mv RAxML_* supplementary/RAxML/"
   ]
  },
  {
   "cell_type": "markdown",
   "metadata": {},
   "source": [
    "Pickle Reprophylo project for later."
   ]
  },
  {
   "cell_type": "code",
   "execution_count": null,
   "metadata": {
    "collapsed": false
   },
   "outputs": [],
   "source": [
    "pickle_pj(pj, 'pickle_file/crangonyx_project.pickle')"
   ]
  },
  {
   "cell_type": "code",
   "execution_count": null,
   "metadata": {
    "collapsed": true
   },
   "outputs": [],
   "source": [
    "!cp pickle_file/crangonyx_project.pickle supplementary/"
   ]
  },
  {
   "cell_type": "markdown",
   "metadata": {},
   "source": [
    "Generate supplementary table linking haplotypes with accession numbers."
   ]
  },
  {
   "cell_type": "code",
   "execution_count": null,
   "metadata": {
    "collapsed": false,
    "scrolled": false
   },
   "outputs": [],
   "source": [
    "references = {}\n",
    "\n",
    "#previously published sequences used in the phylogeny\n",
    "refs = open('../1-NCBI_references/phylogeny_refseqs.csv','r')\n",
    "refs.next()\n",
    "for r in refs:\n",
    "    cols=r.strip().split(\",\")\n",
    "    references[cols[1]] = cols[2]\n",
    "\n",
    "hts = {}   \n",
    "\n",
    "#read in Genbank accessions for sequences produced in this study from text file\n",
    "acc_fh = open('supplementary/this_study_ht_to_accessions.tsv')\n",
    "ht_to_new_accs = {}\n",
    "for ht in acc_fh:\n",
    "    ht_to_new_accs[ht.strip().split(\"\\t\")[0]] = ht.strip().split(\"\\t\")[1]\n",
    "\n",
    "#\n",
    "for r in pj.records:\n",
    "    hts[r.features[0].qualifiers['label'][0]] = \"%s\" %r.features[0].qualifiers['organism'][0]\n",
    "    \n",
    "    if \".\".join(r.id.split(\".\")[:-1]) in references:\n",
    "        hts[r.features[0].qualifiers['label'][0]]+= \"\\t%s\\t%s\" %(r.id, references[\".\".join(r.id.split(\".\")[:-1])])\n",
    "\n",
    "    else:\n",
    "        hts[r.features[0].qualifiers['label'][0]]+= \"\\t\"+ht_to_new_accs[r.features[0].qualifiers['label'][0]]+\"\\tcurrent study\"\n",
    "\n",
    "\n",
    "out='sequence id\\tspecies\\tGenbank accession\\treference\\n'\n",
    "for s in sorted(hts.keys()):\n",
    "    out+=\"%s\\t%s\\n\" %(s, hts[s])\n",
    "\n",
    "print out\n",
    "\n",
    "outfh=open('supplementary/ht_accessions.tsv','w')\n",
    "outfh.write(out)\n",
    "outfh.close()"
   ]
  }
 ],
 "metadata": {
  "kernelspec": {
   "display_name": "Python 2",
   "language": "python",
   "name": "python2"
  },
  "language_info": {
   "codemirror_mode": {
    "name": "ipython",
    "version": 2
   },
   "file_extension": ".py",
   "mimetype": "text/x-python",
   "name": "python",
   "nbconvert_exporter": "python",
   "pygments_lexer": "ipython2",
   "version": "2.7.6"
  }
 },
 "nbformat": 4,
 "nbformat_minor": 0
}
