{
 "cells": [
  {
   "cell_type": "markdown",
   "metadata": {},
   "source": [
    "### Maximum Likelihood tree inference"
   ]
  },
  {
   "cell_type": "markdown",
   "metadata": {},
   "source": [
    "For this step we are using Reprophylo (Szitenberg et al. 2015), the manual can be found [here](https://docs.google.com/document/d/1Q-8B0cvkZw2zMkuP0Af4zZ7FiAvBQPDdGbrLLMgtx_4/edit#)."
   ]
  },
  {
   "cell_type": "markdown",
   "metadata": {},
   "source": [
    "Sanger sequences generated for this study:\n",
    "\n",
    " - `sequences/c.flor-c.pse_SANGER.fasta` and `sequences/c.flor-c.pse_SANGER_2.fasta`\n",
    " \n",
    " were collated into a single file:\n",
    " - `sequences/c.flor_c.pse_SANGER_full.fasta`\n",
    " \n",
    " The haplotypes from the metabarcoding data are cointained in:\n",
    " - `../3-extract_haplotypes/Crangonyx_haplotypes/Crangonyx_from_metaBEAT.fasta`\n",
    " \n",
    "Other Cragnonyx COI sequences are at:\n",
    " - `../1-download_reference/Crangonyx_NCBI_2018.gb`\n",
    " - `../1-download_reference/C.islandicus_NCBI_2018.gb`"
   ]
  },
  {
   "cell_type": "markdown",
   "metadata": {},
   "source": [
    "Import reprophylo functions."
   ]
  },
  {
   "cell_type": "code",
   "execution_count": 1,
   "metadata": {
    "collapsed": true
   },
   "outputs": [],
   "source": [
    "from reprophylo import *"
   ]
  },
  {
   "cell_type": "markdown",
   "metadata": {},
   "source": [
    "Specifying the locus/loci to be used in the analyses."
   ]
  },
  {
   "cell_type": "markdown",
   "metadata": {},
   "source": [
    "The Genbank input files may contain sequences for a range of genes (say you have downloaded full mitochondrial genomes), but you are only interested in a particular gene (say COI). \n",
    "\n",
    "So, first we'll want to get an overview of all the genes present in your input Genbank file. Reprophylo has a function for that.\n",
    "\n",
    "The function will write tentative locus descriptions to the file `loci.csv`, which you may modify, e.g. exclude certain genes from the loci file, or synonymize gene names if necessary."
   ]
  },
  {
   "cell_type": "code",
   "execution_count": 2,
   "metadata": {
    "collapsed": true
   },
   "outputs": [],
   "source": [
    "!cat ../1-NCBI_references/Crangonyx_NCBI_2018.gb ../1-NCBI_references/C.islandicus_NCBI_2018.gb > ../NCBI_records.gb"
   ]
  },
  {
   "cell_type": "code",
   "execution_count": 3,
   "metadata": {
    "collapsed": false
   },
   "outputs": [
    {
     "name": "stdout",
     "output_type": "stream",
     "text": [
      "\n",
      "There are 2 gene names (or gene product names) detected\n",
      "----------------------------------\n",
      "Gene and count sorted by gene name\n",
      "----------------------------------\n",
      "12 instances of CDS,coi\n",
      "54 instances of CDS,COI\n",
      "-------------------------------\n",
      "Gene and count sorted by counts\n",
      "-------------------------------\n",
      "54 instances of CDS,COI\n",
      "12 instances of CDS,coi\n"
     ]
    }
   ],
   "source": [
    "list_loci_in_genbank('../NCBI_records.gb', 'loci.csv')"
   ]
  },
  {
   "cell_type": "markdown",
   "metadata": {},
   "source": [
    "The function summarizes all gene names detected in the Genbank file. Reprophylo internally already contains a list of synoyms for common genes and attempts to summarize all unique gene names in the file `loci.csv`. "
   ]
  },
  {
   "cell_type": "code",
   "execution_count": 4,
   "metadata": {
    "collapsed": false
   },
   "outputs": [
    {
     "name": "stdout",
     "output_type": "stream",
     "text": [
      "dna,CDS,MT-CO1,coi,COI\r\n"
     ]
    }
   ],
   "source": [
    "!cat loci.csv"
   ]
  },
  {
   "cell_type": "markdown",
   "metadata": {},
   "source": [
    "Based on the file `loci.csv` produced by the function we prepare a file `target_loci.csv` that contains all synonyms for the COI gene that appear in the Genbank file. "
   ]
  },
  {
   "cell_type": "code",
   "execution_count": 5,
   "metadata": {
    "collapsed": false
   },
   "outputs": [
    {
     "name": "stdout",
     "output_type": "stream",
     "text": [
      "Overwriting target_loci.csv\n"
     ]
    }
   ],
   "source": [
    "%%file target_loci.csv\n",
    "dna,CDS,MT-CO1,coi,COI,1"
   ]
  },
  {
   "cell_type": "markdown",
   "metadata": {},
   "source": [
    "Start a new Reprophylo project, specifying/characterizing the loci to be processed via the `loci.csv` file that we have prepared."
   ]
  },
  {
   "cell_type": "code",
   "execution_count": 6,
   "metadata": {
    "collapsed": false
   },
   "outputs": [
    {
     "name": "stderr",
     "output_type": "stream",
     "text": [
      "DEBUG:Cloud:Log file (/root/.picloud/cloud.log) opened\n"
     ]
    }
   ],
   "source": [
    "pj = Project('target_loci.csv', pickle='pickle_file/crangonyx_project.pickle', git=False)"
   ]
  },
  {
   "cell_type": "markdown",
   "metadata": {},
   "source": [
    "Check if the Reprophylo project was created correctly."
   ]
  },
  {
   "cell_type": "code",
   "execution_count": 7,
   "metadata": {
    "collapsed": false
   },
   "outputs": [
    {
     "name": "stdout",
     "output_type": "stream",
     "text": [
      "Project object with the loci MT-CO1,\n"
     ]
    }
   ],
   "source": [
    "print pj"
   ]
  },
  {
   "cell_type": "markdown",
   "metadata": {},
   "source": [
    "Reading in the sequences from Genbank format."
   ]
  },
  {
   "cell_type": "code",
   "execution_count": 8,
   "metadata": {
    "collapsed": false
   },
   "outputs": [
    {
     "name": "stderr",
     "output_type": "stream",
     "text": [
      "/home/reprophylo/reprophylo.py:1015: UserWarning: Version control off\n",
      "  warnings.warn('Version control off')\n"
     ]
    }
   ],
   "source": [
    "input_files=['../NCBI_records.gb']\n",
    "pj.read_embl_genbank(input_files)"
   ]
  },
  {
   "cell_type": "markdown",
   "metadata": {},
   "source": [
    "All sequences are now stored in memory as 'sequence records'. "
   ]
  },
  {
   "cell_type": "markdown",
   "metadata": {},
   "source": [
    "How many sequences does our dataset contain?"
   ]
  },
  {
   "cell_type": "code",
   "execution_count": 9,
   "metadata": {
    "collapsed": false
   },
   "outputs": [
    {
     "name": "stdout",
     "output_type": "stream",
     "text": [
      "66\n"
     ]
    }
   ],
   "source": [
    "print len(pj.records)"
   ]
  },
  {
   "cell_type": "markdown",
   "metadata": {},
   "source": [
    "Reading in the new sequences produced from Sanger sequencing or metabarcoding. They will be added to the sequence records with the id 'denovo'"
   ]
  },
  {
   "cell_type": "code",
   "execution_count": 10,
   "metadata": {
    "collapsed": false
   },
   "outputs": [
    {
     "data": {
      "text/plain": [
       "127"
      ]
     },
     "execution_count": 10,
     "metadata": {},
     "output_type": "execute_result"
    }
   ],
   "source": [
    "denovo_sequence_filenames=['./sequences/c.flor_c.pse_SANGER.nr.fasta', \n",
    " '../3-extract_haplotypes/Crangonyx_haplotypes/Crangonyx_from_metaBEAT.fasta']\n",
    "\n",
    "pj.read_denovo(denovo_sequence_filenames, 'dna', format='fasta')"
   ]
  },
  {
   "cell_type": "code",
   "execution_count": 11,
   "metadata": {
    "collapsed": false
   },
   "outputs": [
    {
     "name": "stdout",
     "output_type": "stream",
     "text": [
      "193\n"
     ]
    }
   ],
   "source": [
    "print len(pj.records)"
   ]
  },
  {
   "cell_type": "markdown",
   "metadata": {},
   "source": [
    "We are assuming that the sequences that came from Genbank are already in the correct orientation, but we should check that our custom sequences need to be inverted. "
   ]
  },
  {
   "cell_type": "markdown",
   "metadata": {},
   "source": [
    "We'll use the `blast` program and a few functions to do that."
   ]
  },
  {
   "cell_type": "markdown",
   "metadata": {},
   "source": [
    "`blastn` is installed in the image. Otherwise on ubuntu install like so:"
   ]
  },
  {
   "cell_type": "code",
   "execution_count": 12,
   "metadata": {
    "collapsed": false
   },
   "outputs": [
    {
     "name": "stdout",
     "output_type": "stream",
     "text": [
      "Reading package lists... Done\n",
      "Building dependency tree       \n",
      "Reading state information... Done\n",
      "ncbi-blast+ is already the newest version.\n",
      "0 upgraded, 0 newly installed, 0 to remove and 317 not upgraded.\n"
     ]
    }
   ],
   "source": [
    "!apt-get install ncbi-blast+"
   ]
  },
  {
   "cell_type": "code",
   "execution_count": 13,
   "metadata": {
    "collapsed": false
   },
   "outputs": [],
   "source": [
    "!mkdir temp"
   ]
  },
  {
   "cell_type": "markdown",
   "metadata": {},
   "source": [
    "Write all sequences to file `temp.fasta`."
   ]
  },
  {
   "cell_type": "code",
   "execution_count": 14,
   "metadata": {
    "collapsed": true
   },
   "outputs": [],
   "source": [
    "from Bio import SeqIO\n",
    "\n",
    "output_handle = open(\"temp/crangonyx_test.fasta\", \"w\")\n",
    "SeqIO.write(pj.records, output_handle, \"fasta\")\n",
    "output_handle.close()"
   ]
  },
  {
   "cell_type": "markdown",
   "metadata": {},
   "source": [
    "Convert `temp.fasta` to blast database."
   ]
  },
  {
   "cell_type": "code",
   "execution_count": 15,
   "metadata": {
    "collapsed": false
   },
   "outputs": [
    {
     "name": "stdout",
     "output_type": "stream",
     "text": [
      "\r\n",
      "\r\n",
      "Building a new DB, current time: 07/24/2019 21:33:11\r\n",
      "New DB name:   temp/all\r\n",
      "New DB title:  temp/crangonyx_test.fasta\r\n",
      "Sequence type: Nucleotide\r\n",
      "Keep Linkouts: T\r\n",
      "Keep MBits: T\r\n",
      "Maximum file size: 1000000000B\r\n",
      "Adding sequences from FASTA; added 193 sequences in 0.00636697 seconds.\r\n"
     ]
    }
   ],
   "source": [
    "!makeblastdb -in temp/crangonyx_test.fasta -dbtype nucl -out temp/all"
   ]
  },
  {
   "cell_type": "markdown",
   "metadata": {},
   "source": [
    "Perform blast search."
   ]
  },
  {
   "cell_type": "code",
   "execution_count": 16,
   "metadata": {
    "collapsed": false
   },
   "outputs": [],
   "source": [
    "!blastn -db temp/all -query temp/crangonyx_test.fasta -outfmt '6 qseqid sseqid qstart qend sstart send' -out temp/crangonyx_test.blastn.out"
   ]
  },
  {
   "cell_type": "markdown",
   "metadata": {},
   "source": [
    "Identify any denovo sequences that match with non-denovo sequences in reverse complement."
   ]
  },
  {
   "cell_type": "code",
   "execution_count": 17,
   "metadata": {
    "collapsed": false
   },
   "outputs": [
    {
     "name": "stdout",
     "output_type": "stream",
     "text": [
      "Records to invert:\n",
      "[]\n"
     ]
    }
   ],
   "source": [
    "blastout=open('temp/crangonyx_test.blastn.out')\n",
    "\n",
    "to_invert=[]\n",
    "for line in blastout:\n",
    "    col=line.strip().split(\"\\t\")\n",
    "    if 'denovo' in col[0]:\n",
    "#        print col\n",
    "        if (int(col[-2]) > int(col[-1])) and (not 'denovo' in col[1]):\n",
    "#            print \"## invert ##\"\n",
    "            to_invert.append(col[0])\n",
    "        \n",
    "to_invert=list(set(to_invert))\n",
    "print \"Records to invert:\\n%s\" %to_invert\n",
    "\n",
    "blastout.close()"
   ]
  },
  {
   "cell_type": "markdown",
   "metadata": {},
   "source": [
    "Reverse complement records."
   ]
  },
  {
   "cell_type": "code",
   "execution_count": 18,
   "metadata": {
    "collapsed": false
   },
   "outputs": [
    {
     "name": "stdout",
     "output_type": "stream",
     "text": [
      "Nothing to invert\n",
      "\n"
     ]
    }
   ],
   "source": [
    "if to_invert:\n",
    "    print \"There are records to invert\\n\"\n",
    "    for r in pj.records:\n",
    "        if r.id in to_invert:\n",
    "            print \"\\t-> %s\" %r.id\n",
    "            r.seq = r.seq.reverse_complement()\n",
    "            to_invert.remove(r.id)\n",
    "else:\n",
    "    print \"Nothing to invert\\n\""
   ]
  },
  {
   "cell_type": "markdown",
   "metadata": {},
   "source": [
    "Remove temporal directory."
   ]
  },
  {
   "cell_type": "code",
   "execution_count": 19,
   "metadata": {
    "collapsed": true
   },
   "outputs": [],
   "source": [
    "!rm -rf temp"
   ]
  },
  {
   "cell_type": "markdown",
   "metadata": {},
   "source": [
    "Now, lets print a summary of the number of sequences per species."
   ]
  },
  {
   "cell_type": "code",
   "execution_count": 20,
   "metadata": {
    "collapsed": false
   },
   "outputs": [],
   "source": [
    "pj.species_vs_loci('species.csv')"
   ]
  },
  {
   "cell_type": "code",
   "execution_count": 21,
   "metadata": {
    "collapsed": false
   },
   "outputs": [
    {
     "name": "stdout",
     "output_type": "stream",
     "text": [
      "species\tMT-CO1\r",
      "\r\n",
      "Crangonyx floridanus\t50\r",
      "\r\n",
      "Crangonyx islandicus\t4\r",
      "\r\n",
      "Crangonyx pseudogracilis\t12\r",
      "\r\n",
      "undef\t0\r",
      "\r\n"
     ]
    }
   ],
   "source": [
    "!cat species.csv"
   ]
  },
  {
   "cell_type": "markdown",
   "metadata": {},
   "source": [
    "Some sequences seem to be missing. This is because the `species_by_loci` function only considers sequence records that are identified with the correct gene identifier. We need to add this for our custom sequences so that reprophylo understands that these sequences are to be analysed together with the COI sequences that we have loaded from the Genbank data."
   ]
  },
  {
   "cell_type": "code",
   "execution_count": 22,
   "metadata": {
    "collapsed": true
   },
   "outputs": [],
   "source": [
    "for r in pj.records:\n",
    "    if 'denovo' in r.id:\n",
    "        pj.add_feature_to_record(r.id, 'CDS', qualifiers={'gene': 'MT-CO1'})"
   ]
  },
  {
   "cell_type": "code",
   "execution_count": 23,
   "metadata": {
    "collapsed": true
   },
   "outputs": [],
   "source": [
    "pj.species_vs_loci('species.csv')"
   ]
  },
  {
   "cell_type": "code",
   "execution_count": 24,
   "metadata": {
    "collapsed": false
   },
   "outputs": [
    {
     "name": "stdout",
     "output_type": "stream",
     "text": [
      "species\tMT-CO1\r",
      "\r\n",
      "Crangonyx floridanus\t50\r",
      "\r\n",
      "Crangonyx islandicus\t4\r",
      "\r\n",
      "Crangonyx pseudogracilis\t12\r",
      "\r\n",
      "undef\t127\r",
      "\r\n"
     ]
    }
   ],
   "source": [
    "!cat species.csv"
   ]
  },
  {
   "cell_type": "markdown",
   "metadata": {},
   "source": [
    "Better, but our custom sequences are now assigned to an undefied species. We'll need to add the species to the record. We will look in the original header of the sequence for the species name and add the appropriate organism name to the sequence record."
   ]
  },
  {
   "cell_type": "code",
   "execution_count": 25,
   "metadata": {
    "collapsed": false
   },
   "outputs": [],
   "source": [
    "for r in pj.records:\n",
    "    source=r.features[0]\n",
    "    if 'denovo' in r.id:\n",
    "        if 'floridanus' in source.qualifiers['original_id'][0]:\n",
    "           r.features[0].qualifiers['organism'] = ['Crangonyx floridanus']\n",
    "        elif 'pseudogracilis' in source.qualifiers['original_id'][0]:\n",
    "            r.features[0].qualifiers['organism'] = ['Crangonyx pseudogracilis']\n"
   ]
  },
  {
   "cell_type": "code",
   "execution_count": 26,
   "metadata": {
    "collapsed": true
   },
   "outputs": [],
   "source": [
    "pj.species_vs_loci('species.csv')"
   ]
  },
  {
   "cell_type": "code",
   "execution_count": 27,
   "metadata": {
    "collapsed": false
   },
   "outputs": [
    {
     "name": "stdout",
     "output_type": "stream",
     "text": [
      "species\tMT-CO1\r",
      "\r\n",
      "Crangonyx floridanus\t117\r",
      "\r\n",
      "Crangonyx islandicus\t4\r",
      "\r\n",
      "Crangonyx pseudogracilis\t72\r",
      "\r\n"
     ]
    }
   ],
   "source": [
    "!cat species.csv"
   ]
  },
  {
   "cell_type": "markdown",
   "metadata": {},
   "source": [
    "Now, we produce some stats for the sequences in our dataset."
   ]
  },
  {
   "cell_type": "code",
   "execution_count": 28,
   "metadata": {
    "collapsed": true
   },
   "outputs": [],
   "source": [
    "pj.extract_by_locus()"
   ]
  },
  {
   "cell_type": "code",
   "execution_count": 29,
   "metadata": {
    "collapsed": false,
    "scrolled": true
   },
   "outputs": [
    {
     "name": "stdout",
     "output_type": "stream",
     "text": [
      "Distribution Of Sequence Lengths\n",
      "Distribution Of Sequence Statistic \"Gc_Content\"\n"
     ]
    },
    {
     "name": "stderr",
     "output_type": "stream",
     "text": [
      "/usr/lib/pymodules/python2.7/matplotlib/figure.py:371: UserWarning: matplotlib is currently using a non-GUI backend, so cannot show the figure\n",
      "  \"matplotlib is currently using a non-GUI backend, \"\n"
     ]
    },
    {
     "data": {
      "image/png": "[encoded data removed]",
      "text/plain": [
       "<matplotlib.figure.Figure at 0x7f13b3d10d50>"
      ]
     },
     "metadata": {},
     "output_type": "display_data"
    },
    {
     "data": {
      "image/png": "[encoded data removed]",
      "text/plain": [
       "<matplotlib.figure.Figure at 0x7f13b3c7bfd0>"
      ]
     },
     "metadata": {},
     "output_type": "display_data"
    }
   ],
   "source": [
    "%matplotlib inline\n",
    "pj.report_seq_stats()\n"
   ]
  },
  {
   "cell_type": "markdown",
   "metadata": {},
   "source": [
    "The sequences in the dataset are of different lengths. Sequences downloaded from Genbank (generated by Slothouber Galbreath et al. 2010; Nagabuko et al. 2011) have quite a broad range up to the full 658bp-long COI barcoding region (Folmer et al. 1994). The Sanger sequences produced for this study were also based on the full length COI barcode. Sequences obtained via eDNA metabarcoding instead are the shorter Leray fragment (313bp) (Leray et al. 2013)."
   ]
  },
  {
   "cell_type": "markdown",
   "metadata": {},
   "source": [
    "We will generate three separate alignments.\n",
    " - 'ALL': All sequences from Genbank and current study (Sanger Folmer- and metabarcoding mini-barcode fragment)\n",
    " - 'FOLMER': Sequences from Genbank and current study Sanger Folmer fragments only\n",
    " - 'MINIBC': Sequences from Genbank and current study metabarcoding mini-barcode fragments only"
   ]
  },
  {
   "cell_type": "markdown",
   "metadata": {},
   "source": [
    "Configure and run sequence alignment 'ALL' with mafft."
   ]
  },
  {
   "cell_type": "code",
   "execution_count": 30,
   "metadata": {
    "collapsed": false
   },
   "outputs": [
    {
     "name": "stdout",
     "output_type": "stream",
     "text": [
      "mafft --localpair --maxiterate 1000 578471564003996.92_MT-CO1.fasta\n"
     ]
    }
   ],
   "source": [
    "mafft_linsi = AlnConf(pj, \n",
    "                      method_name='ALL', \n",
    "                      CDSAlign=False, \n",
    "                      program_name='mafft', \n",
    "                      cmd='mafft', \n",
    "                      loci=['MT-CO1'], \n",
    "                      cline_args={'localpair': True, 'maxiterate': 1000})"
   ]
  },
  {
   "cell_type": "markdown",
   "metadata": {},
   "source": [
    "Execute sequence alignment process."
   ]
  },
  {
   "cell_type": "code",
   "execution_count": 31,
   "metadata": {
    "collapsed": true
   },
   "outputs": [],
   "source": [
    "pj.align([mafft_linsi])"
   ]
  },
  {
   "cell_type": "markdown",
   "metadata": {},
   "source": [
    "Display information about the alignment method."
   ]
  },
  {
   "cell_type": "code",
   "execution_count": 32,
   "metadata": {
    "collapsed": false
   },
   "outputs": [
    {
     "name": "stdout",
     "output_type": "stream",
     "text": [
      "AlnConf named ALL with ID 578471564003996.92\n",
      "Loci: MT-CO1 \n",
      "Created on: Wed Jul 24 21:33:16 2019\n",
      "Commands:\n",
      "MT-CO1: mafft --localpair --maxiterate 1000 578471564003996.92_MT-CO1.fasta\n",
      "\n",
      "Environment:\n",
      "Platform: Linux-4.4.0-151-generic-x86_64-with-Ubuntu-14.04-trusty\n",
      " Processor: x86_64\n",
      " Python build: defaultMar 22 2014 22:59:56\n",
      " Python compiler: GCC 4.8.2\n",
      " Python implementation: CPython\n",
      " Python version: 2.7.6\n",
      " ete2 version: 2.2.1072\n",
      " biopython version: 1.70\n",
      " dendropy version: 4.3.0\n",
      " cloud version: 2.8.5\n",
      " reprophylo version 1.3\n",
      " User: biopc7\n",
      " Program and version: MAFFT v7.123b\n",
      " Program reference:Katoh\n",
      " Standley 2013 (Molecular Biology and Evolution 30:772-780) MAFFT multiple sequence alignment software version 7: improvements in performance and usability.\n",
      "execution time:\n",
      "34.8819701672\n",
      "\n",
      "\n",
      "==============================\n",
      "Core Methods section sentence:\n",
      "==============================\n",
      "The dataset(s) MT-CO1 were aligned using the program MAFFT v7.123b [1].\n",
      "\n",
      "Reference:\n",
      "Katoh, Standley 2013 (Molecular Biology and Evolution 30:772-780) MAFFT multiple sequence alignment software version 7: improvements in performance and usability.\n",
      "\n"
     ]
    }
   ],
   "source": [
    "print pj.used_methods['ALL']"
   ]
  },
  {
   "cell_type": "markdown",
   "metadata": {},
   "source": [
    "Produce the alignemnt 'FOLMER', i.e. remove all minibarcode sequences. These have the ids >= `denovo6`."
   ]
  },
  {
   "cell_type": "code",
   "execution_count": 33,
   "metadata": {
    "collapsed": false,
    "scrolled": true
   },
   "outputs": [
    {
     "name": "stdout",
     "output_type": "stream",
     "text": [
      "denovo0 CHASE103_C_floridanus_SANGER\n",
      "denovo1 CHASE412_C_pseudogracilis_SANGER\n",
      "denovo2 F53MOI2C_C_floridanus_SANGER\n",
      "denovo3 THWA03_C_pseudogracilis_SANGER\n",
      "denovo4 THWA01_C_pseudogracilis_SANGER\n",
      "denovo5 FCHASE203_C_floridanus_SANGER\n",
      "denovo6 Crangonyx_floridanus|Cf_UK_Mb-01\n",
      "denovo7 Crangonyx_floridanus|Cf_UK_Mb-02\n",
      "denovo8 Crangonyx_floridanus|Cf_UK_Mb-03\n",
      "denovo9 Crangonyx_floridanus|Cf_UK_Mb-04\n",
      "denovo10 Crangonyx_floridanus|Cf_UK_Mb-05\n",
      "denovo11 Crangonyx_floridanus|Cf_UK_Mb-06\n",
      "denovo12 Crangonyx_floridanus|Cf_UK_Mb-07\n",
      "denovo13 Crangonyx_floridanus|Cf_UK_Mb-08\n",
      "denovo14 Crangonyx_floridanus|Cf_UK_Mb-09\n",
      "denovo15 Crangonyx_floridanus|Cf_UK_Mb-10\n",
      "denovo16 Crangonyx_floridanus|Cf_UK_Mb-11\n",
      "denovo17 Crangonyx_floridanus|Cf_UK_Mb-12\n",
      "denovo18 Crangonyx_floridanus|Cf_UK_Mb-13\n",
      "denovo19 Crangonyx_floridanus|Cf_UK_Mb-14\n",
      "denovo20 Crangonyx_floridanus|Cf_UK_Mb-15\n",
      "denovo21 Crangonyx_floridanus|Cf_UK_Mb-16\n",
      "denovo22 Crangonyx_floridanus|Cf_UK_Mb-17\n",
      "denovo23 Crangonyx_floridanus|Cf_UK_Mb-18\n",
      "denovo24 Crangonyx_floridanus|Cf_UK_Mb-19\n",
      "denovo25 Crangonyx_floridanus|Cf_UK_Mb-20\n",
      "denovo26 Crangonyx_floridanus|Cf_UK_Mb-21\n",
      "denovo27 Crangonyx_floridanus|Cf_UK_Mb-22\n",
      "denovo28 Crangonyx_floridanus|Cf_UK_Mb-23\n",
      "denovo29 Crangonyx_floridanus|Cf_UK_Mb-24\n",
      "denovo30 Crangonyx_floridanus|Cf_UK_Mb-25\n",
      "denovo31 Crangonyx_floridanus|Cf_UK_Mb-26\n",
      "denovo32 Crangonyx_floridanus|Cf_UK_Mb-27\n",
      "denovo33 Crangonyx_floridanus|Cf_UK_Mb-28\n",
      "denovo34 Crangonyx_floridanus|Cf_UK_Mb-29\n",
      "denovo35 Crangonyx_floridanus|Cf_UK_Mb-30\n",
      "denovo36 Crangonyx_floridanus|Cf_UK_Mb-31\n",
      "denovo37 Crangonyx_floridanus|Cf_UK_Mb-32\n",
      "denovo38 Crangonyx_floridanus|Cf_UK_Mb-33\n",
      "denovo39 Crangonyx_floridanus|Cf_UK_Mb-34\n",
      "denovo40 Crangonyx_floridanus|Cf_UK_Mb-35\n",
      "denovo41 Crangonyx_floridanus|Cf_UK_Mb-36\n",
      "denovo42 Crangonyx_floridanus|Cf_UK_Mb-37\n",
      "denovo43 Crangonyx_floridanus|Cf_UK_Mb-38\n",
      "denovo44 Crangonyx_floridanus|Cf_UK_Mb-39\n",
      "denovo45 Crangonyx_floridanus|Cf_UK_Mb-40\n",
      "denovo46 Crangonyx_floridanus|Cf_UK_Mb-41\n",
      "denovo47 Crangonyx_floridanus|Cf_UK_Mb-42\n",
      "denovo48 Crangonyx_floridanus|Cf_UK_Mb-43\n",
      "denovo49 Crangonyx_floridanus|Cf_UK_Mb-44\n",
      "denovo50 Crangonyx_floridanus|Cf_UK_Mb-45\n",
      "denovo51 Crangonyx_floridanus|Cf_UK_Mb-46\n",
      "denovo52 Crangonyx_floridanus|Cf_UK_Mb-47\n",
      "denovo53 Crangonyx_floridanus|Cf_UK_Mb-48\n",
      "denovo54 Crangonyx_floridanus|Cf_UK_Mb-49\n",
      "denovo55 Crangonyx_floridanus|Cf_UK_Mb-50\n",
      "denovo56 Crangonyx_floridanus|Cf_UK_Mb-51\n",
      "denovo57 Crangonyx_floridanus|Cf_UK_Mb-52\n",
      "denovo58 Crangonyx_floridanus|Cf_UK_Mb-53\n",
      "denovo59 Crangonyx_floridanus|Cf_UK_Mb-54\n",
      "denovo60 Crangonyx_floridanus|Cf_UK_Mb-55\n",
      "denovo61 Crangonyx_floridanus|Cf_UK_Mb-56\n",
      "denovo62 Crangonyx_floridanus|Cf_UK_Mb-57\n",
      "denovo63 Crangonyx_floridanus|Cf_UK_Mb-58\n",
      "denovo64 Crangonyx_floridanus|Cf_UK_Mb-59\n",
      "denovo65 Crangonyx_floridanus|Cf_UK_Mb-60\n",
      "denovo66 Crangonyx_floridanus|Cf_UK_Mb-61\n",
      "denovo67 Crangonyx_floridanus|Cf_UK_Mb-62\n",
      "denovo68 Crangonyx_floridanus|Cf_UK_Mb-63\n",
      "denovo69 Crangonyx_floridanus|Cf_UK_Mb-64\n",
      "denovo70 Crangonyx_pseudogracilis|Cp_UK_Mb-01\n",
      "denovo71 Crangonyx_pseudogracilis|Cp_UK_Mb-02\n",
      "denovo72 Crangonyx_pseudogracilis|Cp_UK_Mb-03\n",
      "denovo73 Crangonyx_pseudogracilis|Cp_UK_Mb-04\n",
      "denovo74 Crangonyx_pseudogracilis|Cp_UK_Mb-05\n",
      "denovo75 Crangonyx_pseudogracilis|Cp_UK_Mb-06\n",
      "denovo76 Crangonyx_pseudogracilis|Cp_UK_Mb-07\n",
      "denovo77 Crangonyx_pseudogracilis|Cp_UK_Mb-08\n",
      "denovo78 Crangonyx_pseudogracilis|Cp_UK_Mb-09\n",
      "denovo79 Crangonyx_pseudogracilis|Cp_UK_Mb-10\n",
      "denovo80 Crangonyx_pseudogracilis|Cp_UK_Mb-11\n",
      "denovo81 Crangonyx_pseudogracilis|Cp_UK_Mb-12\n",
      "denovo82 Crangonyx_pseudogracilis|Cp_UK_Mb-13\n",
      "denovo83 Crangonyx_pseudogracilis|Cp_UK_Mb-14\n",
      "denovo84 Crangonyx_pseudogracilis|Cp_UK_Mb-15\n",
      "denovo85 Crangonyx_pseudogracilis|Cp_UK_Mb-16\n",
      "denovo86 Crangonyx_pseudogracilis|Cp_UK_Mb-17\n",
      "denovo87 Crangonyx_pseudogracilis|Cp_UK_Mb-18\n",
      "denovo88 Crangonyx_pseudogracilis|Cp_UK_Mb-19\n",
      "denovo89 Crangonyx_pseudogracilis|Cp_UK_Mb-20\n",
      "denovo90 Crangonyx_pseudogracilis|Cp_UK_Mb-21\n",
      "denovo91 Crangonyx_pseudogracilis|Cp_UK_Mb-22\n",
      "denovo92 Crangonyx_pseudogracilis|Cp_UK_Mb-23\n",
      "denovo93 Crangonyx_pseudogracilis|Cp_UK_Mb-24\n",
      "denovo94 Crangonyx_pseudogracilis|Cp_UK_Mb-25\n",
      "denovo95 Crangonyx_pseudogracilis|Cp_UK_Mb-26\n",
      "denovo96 Crangonyx_pseudogracilis|Cp_UK_Mb-27\n",
      "denovo97 Crangonyx_pseudogracilis|Cp_UK_Mb-28\n",
      "denovo98 Crangonyx_pseudogracilis|Cp_UK_Mb-29\n",
      "denovo99 Crangonyx_pseudogracilis|Cp_UK_Mb-30\n",
      "denovo100 Crangonyx_pseudogracilis|Cp_UK_Mb-31\n",
      "denovo101 Crangonyx_pseudogracilis|Cp_UK_Mb-32\n",
      "denovo102 Crangonyx_pseudogracilis|Cp_UK_Mb-33\n",
      "denovo103 Crangonyx_pseudogracilis|Cp_UK_Mb-34\n",
      "denovo104 Crangonyx_pseudogracilis|Cp_UK_Mb-35\n",
      "denovo105 Crangonyx_pseudogracilis|Cp_UK_Mb-36\n",
      "denovo106 Crangonyx_pseudogracilis|Cp_UK_Mb-37\n",
      "denovo107 Crangonyx_pseudogracilis|Cp_UK_Mb-38\n",
      "denovo108 Crangonyx_pseudogracilis|Cp_UK_Mb-39\n",
      "denovo109 Crangonyx_pseudogracilis|Cp_UK_Mb-40\n",
      "denovo110 Crangonyx_pseudogracilis|Cp_UK_Mb-41\n",
      "denovo111 Crangonyx_pseudogracilis|Cp_UK_Mb-42\n",
      "denovo112 Crangonyx_pseudogracilis|Cp_UK_Mb-43\n",
      "denovo113 Crangonyx_pseudogracilis|Cp_UK_Mb-44\n",
      "denovo114 Crangonyx_pseudogracilis|Cp_UK_Mb-45\n",
      "denovo115 Crangonyx_pseudogracilis|Cp_UK_Mb-46\n",
      "denovo116 Crangonyx_pseudogracilis|Cp_UK_Mb-47\n",
      "denovo117 Crangonyx_pseudogracilis|Cp_UK_Mb-48\n",
      "denovo118 Crangonyx_pseudogracilis|Cp_UK_Mb-49\n",
      "denovo119 Crangonyx_pseudogracilis|Cp_UK_Mb-50\n",
      "denovo120 Crangonyx_pseudogracilis|Cp_UK_Mb-51\n",
      "denovo121 Crangonyx_pseudogracilis|Cp_UK_Mb-52\n",
      "denovo122 Crangonyx_pseudogracilis|Cp_UK_Mb-53\n",
      "denovo123 Crangonyx_pseudogracilis|Cp_UK_Mb-54\n",
      "denovo124 Crangonyx_pseudogracilis|Cp_UK_Mb-55\n",
      "denovo125 Crangonyx_pseudogracilis|Cp_UK_Mb-56\n",
      "denovo126 Crangonyx_pseudogracilis|Cp_UK_Mb-57\n"
     ]
    }
   ],
   "source": [
    "for r in pj.records:\n",
    "    if 'denovo' in r.id:\n",
    "        print r.id,r.description"
   ]
  },
  {
   "cell_type": "code",
   "execution_count": 34,
   "metadata": {
    "collapsed": false
   },
   "outputs": [],
   "source": [
    "#Empty sequence object\n",
    "seqobject = []\n",
    "\n",
    "#Add all records except the record ids >= 'denovo6' to new object\n",
    "for r in pj.records_by_locus['MT-CO1']:\n",
    "    if 'denovo' in r.id:\n",
    "        denovoID=int(r.id.replace('denovo','').replace('_f0',''))\n",
    "#        print denovoID\n",
    "        if denovoID >= 6:\n",
    "            pass\n",
    "        else:\n",
    "            seqobject.append(r)\n",
    "    else:\n",
    "        seqobject.append(r)\n",
    "\n",
    "#Replace original object with new \n",
    "pj.records_by_locus['MT-CO1'] = seqobject"
   ]
  },
  {
   "cell_type": "markdown",
   "metadata": {},
   "source": [
    "Configure and run alignment."
   ]
  },
  {
   "cell_type": "code",
   "execution_count": 35,
   "metadata": {
    "collapsed": false
   },
   "outputs": [
    {
     "name": "stdout",
     "output_type": "stream",
     "text": [
      "mafft --localpair --maxiterate 1000 927521564004032.08_MT-CO1.fasta\n"
     ]
    }
   ],
   "source": [
    "mafft_linsi = AlnConf(pj, \n",
    "                      method_name='FOLMER', \n",
    "                      CDSAlign=False, \n",
    "                      program_name='mafft', \n",
    "                      cmd='mafft', \n",
    "                      loci=['MT-CO1'], \n",
    "                      cline_args={'localpair': True, 'maxiterate': 1000})"
   ]
  },
  {
   "cell_type": "code",
   "execution_count": 36,
   "metadata": {
    "collapsed": true
   },
   "outputs": [],
   "source": [
    "pj.align([mafft_linsi])"
   ]
  },
  {
   "cell_type": "markdown",
   "metadata": {},
   "source": [
    "Restore original alignemnt object."
   ]
  },
  {
   "cell_type": "code",
   "execution_count": 37,
   "metadata": {
    "collapsed": true
   },
   "outputs": [],
   "source": [
    "pj.extract_by_locus()"
   ]
  },
  {
   "cell_type": "markdown",
   "metadata": {},
   "source": [
    "Produce the alignemnt 'MINIBC', i.e. remove all minibarcode sequences. These have ids <= `denovo5`."
   ]
  },
  {
   "cell_type": "code",
   "execution_count": 38,
   "metadata": {
    "collapsed": false
   },
   "outputs": [],
   "source": [
    "#Empty sequence object\n",
    "seqobject = []\n",
    "\n",
    "#Add all records except the record ids >= 'denovo6' to new object\n",
    "for r in pj.records_by_locus['MT-CO1']:\n",
    "    if 'denovo' in r.id:\n",
    "        denovoID=int(r.id.replace('denovo','').replace('_f0',''))\n",
    "#        print denovoID\n",
    "        if denovoID <= 5:\n",
    "            pass\n",
    "        else:\n",
    "            seqobject.append(r)\n",
    "    else:\n",
    "        seqobject.append(r)\n",
    "\n",
    "#Replace original object with new \n",
    "pj.records_by_locus['MT-CO1'] = seqobject"
   ]
  },
  {
   "cell_type": "markdown",
   "metadata": {},
   "source": [
    "Configure and run alignment."
   ]
  },
  {
   "cell_type": "code",
   "execution_count": 39,
   "metadata": {
    "collapsed": false
   },
   "outputs": [
    {
     "name": "stdout",
     "output_type": "stream",
     "text": [
      "mafft --localpair --maxiterate 1000 924181564004040.97_MT-CO1.fasta\n"
     ]
    }
   ],
   "source": [
    "mafft_linsi = AlnConf(pj, \n",
    "                      method_name='MINIBC', \n",
    "                      CDSAlign=False, \n",
    "                      program_name='mafft', \n",
    "                      cmd='mafft', \n",
    "                      loci=['MT-CO1'], \n",
    "                      cline_args={'localpair': True, 'maxiterate': 1000})"
   ]
  },
  {
   "cell_type": "code",
   "execution_count": 40,
   "metadata": {
    "collapsed": true
   },
   "outputs": [],
   "source": [
    "pj.align([mafft_linsi])"
   ]
  },
  {
   "cell_type": "markdown",
   "metadata": {},
   "source": [
    "Restore original alignment object."
   ]
  },
  {
   "cell_type": "code",
   "execution_count": 41,
   "metadata": {
    "collapsed": true
   },
   "outputs": [],
   "source": [
    "pj.extract_by_locus()"
   ]
  },
  {
   "cell_type": "markdown",
   "metadata": {},
   "source": [
    "Write alignments to files for checking in e.g. `Aliview`."
   ]
  },
  {
   "cell_type": "code",
   "execution_count": 42,
   "metadata": {
    "collapsed": false
   },
   "outputs": [
    {
     "data": {
      "text/plain": [
       "['MT-CO1@MINIBC_aln.fasta', 'MT-CO1@FOLMER_aln.fasta', 'MT-CO1@ALL_aln.fasta']"
      ]
     },
     "execution_count": 42,
     "metadata": {},
     "output_type": "execute_result"
    }
   ],
   "source": [
    "pj.write_alns(id=['record_id', 'source_organism'], format='fasta')"
   ]
  },
  {
   "cell_type": "markdown",
   "metadata": {},
   "source": [
    "Trim each of the three alignemnts to remove any positions that are not covered by at least 70, 80, and 90% of the records."
   ]
  },
  {
   "cell_type": "code",
   "execution_count": 43,
   "metadata": {
    "collapsed": false
   },
   "outputs": [
    {
     "name": "stdout",
     "output_type": "stream",
     "text": [
      "trimal -in 262541564004072.82_MT-CO1@MINIBC.fasta -gt 0.7\n",
      "trimal -in 262541564004072.82_MT-CO1@FOLMER.fasta -gt 0.7\n",
      "trimal -in 262541564004072.82_MT-CO1@ALL.fasta -gt 0.7\n"
     ]
    }
   ],
   "source": [
    "gt70trimal = TrimalConf(pj, \n",
    "                        method_name='gt70', \n",
    "                        program_name='trimal', \n",
    "                        cmd='trimal', \n",
    "                        alns=['MT-CO1@ALL', 'MT-CO1@FOLMER', 'MT-CO1@MINIBC'], \n",
    "                        trimal_commands={'gt': 0.7})"
   ]
  },
  {
   "cell_type": "code",
   "execution_count": 44,
   "metadata": {
    "collapsed": false
   },
   "outputs": [
    {
     "name": "stdout",
     "output_type": "stream",
     "text": [
      "trimal -in 675031564004072.83_MT-CO1@MINIBC.fasta -gt 0.8\n",
      "trimal -in 675031564004072.83_MT-CO1@FOLMER.fasta -gt 0.8\n",
      "trimal -in 675031564004072.83_MT-CO1@ALL.fasta -gt 0.8\n"
     ]
    }
   ],
   "source": [
    "gt80trimal = TrimalConf(pj, \n",
    "                        method_name='gt80', \n",
    "                        program_name='trimal', \n",
    "                        cmd='trimal', \n",
    "                        alns=['MT-CO1@ALL', 'MT-CO1@FOLMER', 'MT-CO1@MINIBC'], \n",
    "                        trimal_commands={'gt': 0.8})"
   ]
  },
  {
   "cell_type": "code",
   "execution_count": 45,
   "metadata": {
    "collapsed": false
   },
   "outputs": [
    {
     "name": "stdout",
     "output_type": "stream",
     "text": [
      "trimal -in 843991564004072.84_MT-CO1@MINIBC.fasta -gt 0.9\n",
      "trimal -in 843991564004072.84_MT-CO1@FOLMER.fasta -gt 0.9\n",
      "trimal -in 843991564004072.84_MT-CO1@ALL.fasta -gt 0.9\n"
     ]
    }
   ],
   "source": [
    "gt90trimal = TrimalConf(pj, \n",
    "                        method_name='gt90', \n",
    "                        program_name='trimal', \n",
    "                        cmd='trimal', \n",
    "                        alns=['MT-CO1@ALL', 'MT-CO1@FOLMER', 'MT-CO1@MINIBC'], \n",
    "                        trimal_commands={'gt': 0.9})"
   ]
  },
  {
   "cell_type": "code",
   "execution_count": 46,
   "metadata": {
    "collapsed": false
   },
   "outputs": [],
   "source": [
    "pj.trim([gt70trimal,gt80trimal,gt90trimal])"
   ]
  },
  {
   "cell_type": "code",
   "execution_count": 47,
   "metadata": {
    "collapsed": false
   },
   "outputs": [
    {
     "name": "stdout",
     "output_type": "stream",
     "text": [
      "TrimalConf named gt90 with ID 843991564004072.84\n",
      "Alignments: MT-CO1@MINIBC,MT-CO1@FOLMER,MT-CO1@ALL \n",
      "Created on: Wed Jul 24 21:34:32 2019\n",
      "Commands:\n",
      "MT-CO1@FOLMER@gt90: trimal -in 843991564004072.84_MT-CO1@FOLMER.fasta -gt 0.9\n",
      "MT-CO1@ALL@gt90: trimal -in 843991564004072.84_MT-CO1@ALL.fasta -gt 0.9\n",
      "MT-CO1@MINIBC@gt90: trimal -in 843991564004072.84_MT-CO1@MINIBC.fasta -gt 0.9\n",
      "\n",
      "Environment:Platform: Linux-4.4.0-151-generic-x86_64-with-Ubuntu-14.04-trusty\n",
      " Processor: x86_64\n",
      " Python build: defaultMar 22 2014 22:59:56\n",
      " Python compiler: GCC 4.8.2\n",
      " Python implementation: CPython\n",
      " Python version: 2.7.6\n",
      " ete2 version: 2.2.1072\n",
      " biopython version: 1.70\n",
      " dendropy version: 4.3.0\n",
      " cloud version: 2.8.5\n",
      " reprophylo version 1.3\n",
      " User: biopc7\n",
      " Program and version: trimAl 1.2rev59\n",
      " Program reference: Salvador Capella-Gutierrez; Jose M. Silla-Martinez; Toni Gabaldon. trimAl: a tool for automated alignment trimming in large-scale phylogenetic analyses. Bioinformatics 2009 25: 1972-1973.\n",
      "execution time:\n",
      "1.44668292999\n",
      "\n",
      "==============================\n",
      "Core Methods section sentence:\n",
      "==============================\n",
      "The alignment(s) MT-CO1@MINIBC;MT-CO1@FOLMER;MT-CO1@ALL were trimmed using the program trimAl 1.2rev59 [1].\n",
      "\n",
      "Reference:\n",
      "Salvador Capella-Gutierrez; Jose M. Silla-Martinez; Toni Gabaldon. trimAl: a tool for automated alignment trimming in large-scale phylogenetic analyses. Bioinformatics 2009 25: 1972-1973.\n",
      "\n"
     ]
    }
   ],
   "source": [
    "print pj.used_methods['gt90']"
   ]
  },
  {
   "cell_type": "code",
   "execution_count": 48,
   "metadata": {
    "collapsed": false
   },
   "outputs": [
    {
     "data": {
      "text/plain": [
       "['MT-CO1@MINIBC@gt80_trimmed_aln.fasta',\n",
       " 'MT-CO1@ALL@gt70_trimmed_aln.fasta',\n",
       " 'MT-CO1@MINIBC@gt90_trimmed_aln.fasta',\n",
       " 'MT-CO1@MINIBC@gt70_trimmed_aln.fasta',\n",
       " 'MT-CO1@ALL@gt80_trimmed_aln.fasta',\n",
       " 'MT-CO1@FOLMER@gt70_trimmed_aln.fasta',\n",
       " 'MT-CO1@ALL@gt90_trimmed_aln.fasta',\n",
       " 'MT-CO1@FOLMER@gt90_trimmed_aln.fasta',\n",
       " 'MT-CO1@FOLMER@gt80_trimmed_aln.fasta']"
      ]
     },
     "execution_count": 48,
     "metadata": {},
     "output_type": "execute_result"
    }
   ],
   "source": [
    "pj.write_trimmed_alns(id=['record_id', 'source_organism'], format='fasta')"
   ]
  },
  {
   "cell_type": "markdown",
   "metadata": {},
   "source": [
    "Configure tree building."
   ]
  },
  {
   "cell_type": "code",
   "execution_count": 49,
   "metadata": {
    "collapsed": false
   },
   "outputs": [
    {
     "name": "stdout",
     "output_type": "stream",
     "text": [
      "raxmlHPC-PTHREADS-SSE3 -f a -m GTRGAMMA -n 264361564004077.89_MT-CO1@MINIBC@gt800 -p 483 -s 264361564004077.89_MT-CO1@MINIBC@gt80.fasta -T 3 -x 294 -N 100\n",
      "raxmlHPC-PTHREADS-SSE3 -f a -m GTRGAMMA -n 264361564004077.89_MT-CO1@ALL@gt700 -p 712 -s 264361564004077.89_MT-CO1@ALL@gt70.fasta -T 3 -x 140 -N 100\n",
      "raxmlHPC-PTHREADS-SSE3 -f a -m GTRGAMMA -n 264361564004077.89_MT-CO1@MINIBC@gt900 -p 322 -s 264361564004077.89_MT-CO1@MINIBC@gt90.fasta -T 3 -x 329 -N 100\n",
      "raxmlHPC-PTHREADS-SSE3 -f a -m GTRGAMMA -n 264361564004077.89_MT-CO1@MINIBC@gt700 -p 490 -s 264361564004077.89_MT-CO1@MINIBC@gt70.fasta -T 3 -x 599 -N 100\n",
      "raxmlHPC-PTHREADS-SSE3 -f a -m GTRGAMMA -n 264361564004077.89_MT-CO1@ALL@gt800 -p 703 -s 264361564004077.89_MT-CO1@ALL@gt80.fasta -T 3 -x 396 -N 100\n",
      "raxmlHPC-PTHREADS-SSE3 -f a -m GTRGAMMA -n 264361564004077.89_MT-CO1@FOLMER@gt700 -p 451 -s 264361564004077.89_MT-CO1@FOLMER@gt70.fasta -T 3 -x 646 -N 100\n",
      "raxmlHPC-PTHREADS-SSE3 -f a -m GTRGAMMA -n 264361564004077.89_MT-CO1@ALL@gt900 -p 129 -s 264361564004077.89_MT-CO1@ALL@gt90.fasta -T 3 -x 369 -N 100\n",
      "raxmlHPC-PTHREADS-SSE3 -f a -m GTRGAMMA -n 264361564004077.89_MT-CO1@FOLMER@gt900 -p 478 -s 264361564004077.89_MT-CO1@FOLMER@gt90.fasta -T 3 -x 700 -N 100\n",
      "raxmlHPC-PTHREADS-SSE3 -f a -m GTRGAMMA -n 264361564004077.89_MT-CO1@FOLMER@gt800 -p 307 -s 264361564004077.89_MT-CO1@FOLMER@gt80.fasta -T 3 -x 138 -N 100\n"
     ]
    }
   ],
   "source": [
    "raxml = RaxmlConf(pj, method_name='mafftLinsi-trimal', \n",
    "                 program_name='raxmlHPC-PTHREADS-SSE3',\n",
    "                 keepfiles=True,\n",
    "                 cmd='raxmlHPC-PTHREADS-SSE3',\n",
    "                 preset='fa',\n",
    "                 alns=['MT-CO1@FOLMER@gt80','MT-CO1@ALL@gt80','MT-CO1@MINIBC@gt80',\n",
    "                      'MT-CO1@FOLMER@gt70','MT-CO1@ALL@gt70','MT-CO1@MINIBC@gt70',\n",
    "                      'MT-CO1@FOLMER@gt90','MT-CO1@ALL@gt90','MT-CO1@MINIBC@gt90'],\n",
    "                 model='GAMMA',\n",
    "                 threads=3,\n",
    "                 cline_args={'-#': 100})"
   ]
  },
  {
   "cell_type": "code",
   "execution_count": 50,
   "metadata": {
    "collapsed": true
   },
   "outputs": [],
   "source": [
    "pj.tree([raxml])"
   ]
  },
  {
   "cell_type": "code",
   "execution_count": 51,
   "metadata": {
    "collapsed": false,
    "scrolled": true
   },
   "outputs": [
    {
     "name": "stdout",
     "output_type": "stream",
     "text": [
      "RaxmlConf named mafftLinsi-trimal with ID 264361564004077.89\n",
      "Alignments: MT-CO1@MINIBC@gt80,MT-CO1@ALL@gt70,MT-CO1@MINIBC@gt90,MT-CO1@MINIBC@gt70,MT-CO1@ALL@gt80,MT-CO1@FOLMER@gt70,MT-CO1@ALL@gt90,MT-CO1@FOLMER@gt90,MT-CO1@FOLMER@gt80 \n",
      "Created on: Wed Jul 24 21:34:37 2019\n",
      "Commands:\n",
      "MT-CO1@MINIBC@gt80:\n",
      "raxmlHPC-PTHREADS-SSE3 -f a -m GTRGAMMA -n 264361564004077.89_MT-CO1@MINIBC@gt800 -p 483 -s 264361564004077.89_MT-CO1@MINIBC@gt80.fasta -T 3 -x 294 -N 100\n",
      "MT-CO1@ALL@gt70:\n",
      "raxmlHPC-PTHREADS-SSE3 -f a -m GTRGAMMA -n 264361564004077.89_MT-CO1@ALL@gt700 -p 712 -s 264361564004077.89_MT-CO1@ALL@gt70.fasta -T 3 -x 140 -N 100\n",
      "MT-CO1@MINIBC@gt90:\n",
      "raxmlHPC-PTHREADS-SSE3 -f a -m GTRGAMMA -n 264361564004077.89_MT-CO1@MINIBC@gt900 -p 322 -s 264361564004077.89_MT-CO1@MINIBC@gt90.fasta -T 3 -x 329 -N 100\n",
      "MT-CO1@MINIBC@gt70:\n",
      "raxmlHPC-PTHREADS-SSE3 -f a -m GTRGAMMA -n 264361564004077.89_MT-CO1@MINIBC@gt700 -p 490 -s 264361564004077.89_MT-CO1@MINIBC@gt70.fasta -T 3 -x 599 -N 100\n",
      "MT-CO1@ALL@gt80:\n",
      "raxmlHPC-PTHREADS-SSE3 -f a -m GTRGAMMA -n 264361564004077.89_MT-CO1@ALL@gt800 -p 703 -s 264361564004077.89_MT-CO1@ALL@gt80.fasta -T 3 -x 396 -N 100\n",
      "MT-CO1@FOLMER@gt70:\n",
      "raxmlHPC-PTHREADS-SSE3 -f a -m GTRGAMMA -n 264361564004077.89_MT-CO1@FOLMER@gt700 -p 451 -s 264361564004077.89_MT-CO1@FOLMER@gt70.fasta -T 3 -x 646 -N 100\n",
      "MT-CO1@ALL@gt90:\n",
      "raxmlHPC-PTHREADS-SSE3 -f a -m GTRGAMMA -n 264361564004077.89_MT-CO1@ALL@gt900 -p 129 -s 264361564004077.89_MT-CO1@ALL@gt90.fasta -T 3 -x 369 -N 100\n",
      "MT-CO1@FOLMER@gt90:\n",
      "raxmlHPC-PTHREADS-SSE3 -f a -m GTRGAMMA -n 264361564004077.89_MT-CO1@FOLMER@gt900 -p 478 -s 264361564004077.89_MT-CO1@FOLMER@gt90.fasta -T 3 -x 700 -N 100\n",
      "MT-CO1@FOLMER@gt80:\n",
      "raxmlHPC-PTHREADS-SSE3 -f a -m GTRGAMMA -n 264361564004077.89_MT-CO1@FOLMER@gt800 -p 307 -s 264361564004077.89_MT-CO1@FOLMER@gt80.fasta -T 3 -x 138 -N 100\n",
      "\n",
      "Environment:\n",
      "Platform: Linux-4.4.0-151-generic-x86_64-with-Ubuntu-14.04-trusty\n",
      " Processor: x86_64\n",
      " Python build: defaultMar 22 2014 22:59:56\n",
      " Python compiler: GCC 4.8.2\n",
      " Python implementation: CPython\n",
      " Python version: 2.7.6\n",
      " ete2 version: 2.2.1072\n",
      " biopython version: 1.70\n",
      " dendropy version: 4.3.0\n",
      " cloud version: 2.8.5\n",
      " reprophylo version 1.3\n",
      " User: biopc7\n",
      " Program and version: raxmlHPC-PTHREADS-SSE3RAxML version 8.0.12\n",
      " Program reference: A. Stamatakis: RAxML Version 8: A tool for Phylogenetic Analysis and Post-Analysis of Large Phylogenies. In Bioinformatics\n",
      " 2014.\n",
      "execution time:\n",
      "3970.00645304\n",
      "\n",
      "==============================\n",
      "Core Methods section sentence:\n",
      "==============================\n",
      "Phylogenetic trees were reconstructed from the dataset(s) MT-CO1@MINIBC@gt80;MT-CO1@ALL@gt70;MT-CO1@MINIBC@gt90;MT-CO1@MINIBC@gt70;MT-CO1@ALL@gt80;MT-CO1@FOLMER@gt70;MT-CO1@ALL@gt90;MT-CO1@FOLMER@gt90;MT-CO1@FOLMER@gt80 using the program raxmlHPC-PTHREADS-SSE3RAxML version 8.0.12 [1].\n",
      "\n",
      "Reference:\n",
      "A. Stamatakis: RAxML Version 8: A tool for Phylogenetic Analysis and Post-Analysis of Large Phylogenies. In Bioinformatics, 2014.\n",
      "\n"
     ]
    }
   ],
   "source": [
    "print pj.used_methods['mafftLinsi-trimal']"
   ]
  },
  {
   "cell_type": "markdown",
   "metadata": {},
   "source": [
    "Pickle the project."
   ]
  },
  {
   "cell_type": "code",
   "execution_count": 52,
   "metadata": {
    "collapsed": false
   },
   "outputs": [
    {
     "data": {
      "text/plain": [
       "'pickle_file/crangonyx_project.pickle'"
      ]
     },
     "execution_count": 52,
     "metadata": {},
     "output_type": "execute_result"
    }
   ],
   "source": [
    "pickle_pj(pj, 'pickle_file/crangonyx_project.pickle')"
   ]
  },
  {
   "cell_type": "markdown",
   "metadata": {},
   "source": [
    "## Annotate ML trees."
   ]
  },
  {
   "cell_type": "markdown",
   "metadata": {},
   "source": [
    "Define outgroups."
   ]
  },
  {
   "cell_type": "code",
   "execution_count": 53,
   "metadata": {
    "collapsed": false
   },
   "outputs": [
    {
     "name": "stdout",
     "output_type": "stream",
     "text": [
      "species\tMT-CO1\r",
      "\r\n",
      "Crangonyx floridanus\t117\r",
      "\r\n",
      "Crangonyx islandicus\t4\r",
      "\r\n",
      "Crangonyx pseudogracilis\t72\r",
      "\r\n"
     ]
    }
   ],
   "source": [
    "!cat species.csv"
   ]
  },
  {
   "cell_type": "code",
   "execution_count": 54,
   "metadata": {
    "collapsed": true
   },
   "outputs": [],
   "source": [
    "pj.add_qualifier_from_source('organism')\n"
   ]
  },
  {
   "cell_type": "code",
   "execution_count": 55,
   "metadata": {
    "collapsed": true
   },
   "outputs": [],
   "source": [
    "for species in ['Synurella','Crangonyx_islandicus']:\n",
    "    pj.if_this_then_that(species, 'organism', 'outgroup', 'outgroup',\n",
    "                         mode='part')"
   ]
  },
  {
   "cell_type": "markdown",
   "metadata": {},
   "source": [
    "Specify colors for branchsupport."
   ]
  },
  {
   "cell_type": "code",
   "execution_count": 56,
   "metadata": {
    "collapsed": true
   },
   "outputs": [],
   "source": [
    "supports = {'black': [100,95],\n",
    "            'dimgray': [95,75],\n",
    "            'silver': [75,50]}"
   ]
  },
  {
   "cell_type": "markdown",
   "metadata": {},
   "source": [
    "Add a new qualifier 'origin' that contains either 'Sanger' or 'metabarcoding' for the newly generated sequences. Also we add another qualifier 'origin_abr' that contains the symbols * or +, respectively.\n",
    "\n"
   ]
  },
  {
   "cell_type": "code",
   "execution_count": 57,
   "metadata": {
    "collapsed": false
   },
   "outputs": [
    {
     "name": "stdout",
     "output_type": "stream",
     "text": [
      "AB513800.1\n",
      "origin -> previous study\n",
      "AB513801.1\n",
      "origin -> previous study\n",
      "AB513802.1\n",
      "origin -> previous study\n",
      "AB513803.1\n",
      "origin -> previous study\n",
      "AB513804.1\n",
      "origin -> previous study\n",
      "AB513805.1\n",
      "origin -> previous study\n",
      "AB513806.1\n",
      "origin -> previous study\n",
      "AB513807.1\n",
      "origin -> previous study\n",
      "AB513808.1\n",
      "origin -> previous study\n",
      "AB513809.1\n",
      "origin -> previous study\n",
      "AB513810.1\n",
      "origin -> previous study\n",
      "AB513811.1\n",
      "origin -> previous study\n",
      "AB513812.1\n",
      "origin -> previous study\n",
      "AB513813.1\n",
      "origin -> previous study\n",
      "AB513814.1\n",
      "origin -> previous study\n",
      "AB513815.1\n",
      "origin -> previous study\n",
      "AB513816.1\n",
      "origin -> previous study\n",
      "AB513817.1\n",
      "origin -> previous study\n",
      "AB513818.1\n",
      "origin -> previous study\n",
      "AB513819.1\n",
      "origin -> previous study\n",
      "AB513820.1\n",
      "origin -> previous study\n",
      "AB513821.1\n",
      "origin -> previous study\n",
      "AB513822.1\n",
      "origin -> previous study\n",
      "AB513823.1\n",
      "origin -> previous study\n",
      "AB513824.1\n",
      "origin -> previous study\n",
      "AB513825.1\n",
      "origin -> previous study\n",
      "AB513826.1\n",
      "origin -> previous study\n",
      "AB513827.1\n",
      "origin -> previous study\n",
      "AB513828.1\n",
      "origin -> previous study\n",
      "AB513829.1\n",
      "origin -> previous study\n",
      "AB513830.1\n",
      "origin -> previous study\n",
      "AB513831.1\n",
      "origin -> previous study\n",
      "AB513832.1\n",
      "origin -> previous study\n",
      "AB513833.1\n",
      "origin -> previous study\n",
      "AB513834.1\n",
      "origin -> previous study\n",
      "AB513835.1\n",
      "origin -> previous study\n",
      "AJ968893.1\n",
      "origin -> previous study\n",
      "AJ968894.1\n",
      "origin -> previous study\n",
      "AJ968895.1\n",
      "origin -> previous study\n",
      "AJ968896.1\n",
      "origin -> previous study\n",
      "AJ968897.1\n",
      "origin -> previous study\n",
      "AJ968898.1\n",
      "origin -> previous study\n",
      "AJ968899.1\n",
      "origin -> previous study\n",
      "AJ968900.1\n",
      "origin -> previous study\n",
      "AJ968901.1\n",
      "origin -> previous study\n",
      "AJ968902.1\n",
      "origin -> previous study\n",
      "AJ968903.1\n",
      "origin -> previous study\n",
      "AJ968904.1\n",
      "origin -> previous study\n",
      "MK036646.1\n",
      "origin -> previous study\n",
      "MK036647.1\n",
      "origin -> previous study\n",
      "MK036648.1\n",
      "origin -> previous study\n",
      "MK036649.1\n",
      "origin -> previous study\n",
      "MK036650.1\n",
      "origin -> previous study\n",
      "MK036651.1\n",
      "origin -> previous study\n",
      "MK036652.1\n",
      "origin -> previous study\n",
      "MK036653.1\n",
      "origin -> previous study\n",
      "MK036654.1\n",
      "origin -> previous study\n",
      "MK036655.1\n",
      "origin -> previous study\n",
      "MK036656.1\n",
      "origin -> previous study\n",
      "MK036657.1\n",
      "origin -> previous study\n",
      "MK036658.1\n",
      "origin -> previous study\n",
      "MK036659.1\n",
      "origin -> previous study\n",
      "HM015193.1\n",
      "origin -> previous study\n",
      "HM015194.1\n",
      "origin -> previous study\n",
      "HM015195.1\n",
      "origin -> previous study\n",
      "HM015196.1\n",
      "origin -> previous study\n",
      "denovo0\n",
      "origin -> Sanger\n",
      "denovo1\n",
      "origin -> Sanger\n",
      "denovo2\n",
      "origin -> Sanger\n",
      "denovo3\n",
      "origin -> Sanger\n",
      "denovo4\n",
      "origin -> Sanger\n",
      "denovo5\n",
      "origin -> Sanger\n",
      "denovo6\n",
      "origin -> metabarcoding\n",
      "denovo7\n",
      "origin -> metabarcoding\n",
      "denovo8\n",
      "origin -> metabarcoding\n",
      "denovo9\n",
      "origin -> metabarcoding\n",
      "denovo10\n",
      "origin -> metabarcoding\n",
      "denovo11\n",
      "origin -> metabarcoding\n",
      "denovo12\n",
      "origin -> metabarcoding\n",
      "denovo13\n",
      "origin -> metabarcoding\n",
      "denovo14\n",
      "origin -> metabarcoding\n",
      "denovo15\n",
      "origin -> metabarcoding\n",
      "denovo16\n",
      "origin -> metabarcoding\n",
      "denovo17\n",
      "origin -> metabarcoding\n",
      "denovo18\n",
      "origin -> metabarcoding\n",
      "denovo19\n",
      "origin -> metabarcoding\n",
      "denovo20\n",
      "origin -> metabarcoding\n",
      "denovo21\n",
      "origin -> metabarcoding\n",
      "denovo22\n",
      "origin -> metabarcoding\n",
      "denovo23\n",
      "origin -> metabarcoding\n",
      "denovo24\n",
      "origin -> metabarcoding\n",
      "denovo25\n",
      "origin -> metabarcoding\n",
      "denovo26\n",
      "origin -> metabarcoding\n",
      "denovo27\n",
      "origin -> metabarcoding\n",
      "denovo28\n",
      "origin -> metabarcoding\n",
      "denovo29\n",
      "origin -> metabarcoding\n",
      "denovo30\n",
      "origin -> metabarcoding\n",
      "denovo31\n",
      "origin -> metabarcoding\n",
      "denovo32\n",
      "origin -> metabarcoding\n",
      "denovo33\n",
      "origin -> metabarcoding\n",
      "denovo34\n",
      "origin -> metabarcoding\n",
      "denovo35\n",
      "origin -> metabarcoding\n",
      "denovo36\n",
      "origin -> metabarcoding\n",
      "denovo37\n",
      "origin -> metabarcoding\n",
      "denovo38\n",
      "origin -> metabarcoding\n",
      "denovo39\n",
      "origin -> metabarcoding\n",
      "denovo40\n",
      "origin -> metabarcoding\n",
      "denovo41\n",
      "origin -> metabarcoding\n",
      "denovo42\n",
      "origin -> metabarcoding\n",
      "denovo43\n",
      "origin -> metabarcoding\n",
      "denovo44\n",
      "origin -> metabarcoding\n",
      "denovo45\n",
      "origin -> metabarcoding\n",
      "denovo46\n",
      "origin -> metabarcoding\n",
      "denovo47\n",
      "origin -> metabarcoding\n",
      "denovo48\n",
      "origin -> metabarcoding\n",
      "denovo49\n",
      "origin -> metabarcoding\n",
      "denovo50\n",
      "origin -> metabarcoding\n",
      "denovo51\n",
      "origin -> metabarcoding\n",
      "denovo52\n",
      "origin -> metabarcoding\n",
      "denovo53\n",
      "origin -> metabarcoding\n",
      "denovo54\n",
      "origin -> metabarcoding\n",
      "denovo55\n",
      "origin -> metabarcoding\n",
      "denovo56\n",
      "origin -> metabarcoding\n",
      "denovo57\n",
      "origin -> metabarcoding\n",
      "denovo58\n",
      "origin -> metabarcoding\n",
      "denovo59\n",
      "origin -> metabarcoding\n",
      "denovo60\n",
      "origin -> metabarcoding\n",
      "denovo61\n",
      "origin -> metabarcoding\n",
      "denovo62\n",
      "origin -> metabarcoding\n",
      "denovo63\n",
      "origin -> metabarcoding\n",
      "denovo64\n",
      "origin -> metabarcoding\n",
      "denovo65\n",
      "origin -> metabarcoding\n",
      "denovo66\n",
      "origin -> metabarcoding\n",
      "denovo67\n",
      "origin -> metabarcoding\n",
      "denovo68\n",
      "origin -> metabarcoding\n",
      "denovo69\n",
      "origin -> metabarcoding\n",
      "denovo70\n",
      "origin -> metabarcoding\n",
      "denovo71\n",
      "origin -> metabarcoding\n",
      "denovo72\n",
      "origin -> metabarcoding\n",
      "denovo73\n",
      "origin -> metabarcoding\n",
      "denovo74\n",
      "origin -> metabarcoding\n",
      "denovo75\n",
      "origin -> metabarcoding\n",
      "denovo76\n",
      "origin -> metabarcoding\n",
      "denovo77\n",
      "origin -> metabarcoding\n",
      "denovo78\n",
      "origin -> metabarcoding\n",
      "denovo79\n",
      "origin -> metabarcoding\n",
      "denovo80\n",
      "origin -> metabarcoding\n",
      "denovo81\n",
      "origin -> metabarcoding\n",
      "denovo82\n",
      "origin -> metabarcoding\n",
      "denovo83\n",
      "origin -> metabarcoding\n",
      "denovo84\n",
      "origin -> metabarcoding\n",
      "denovo85\n",
      "origin -> metabarcoding\n",
      "denovo86\n",
      "origin -> metabarcoding\n",
      "denovo87\n",
      "origin -> metabarcoding\n",
      "denovo88\n",
      "origin -> metabarcoding\n",
      "denovo89\n",
      "origin -> metabarcoding\n",
      "denovo90\n",
      "origin -> metabarcoding\n",
      "denovo91\n",
      "origin -> metabarcoding\n",
      "denovo92\n",
      "origin -> metabarcoding\n",
      "denovo93\n",
      "origin -> metabarcoding\n",
      "denovo94\n",
      "origin -> metabarcoding\n",
      "denovo95\n",
      "origin -> metabarcoding\n",
      "denovo96\n",
      "origin -> metabarcoding\n",
      "denovo97\n",
      "origin -> metabarcoding\n",
      "denovo98\n",
      "origin -> metabarcoding\n",
      "denovo99\n",
      "origin -> metabarcoding\n",
      "denovo100\n",
      "origin -> metabarcoding\n",
      "denovo101\n",
      "origin -> metabarcoding\n",
      "denovo102\n",
      "origin -> metabarcoding\n",
      "denovo103\n",
      "origin -> metabarcoding\n",
      "denovo104\n",
      "origin -> metabarcoding\n",
      "denovo105\n",
      "origin -> metabarcoding\n",
      "denovo106\n",
      "origin -> metabarcoding\n",
      "denovo107\n",
      "origin -> metabarcoding\n",
      "denovo108\n",
      "origin -> metabarcoding\n",
      "denovo109\n",
      "origin -> metabarcoding\n",
      "denovo110\n",
      "origin -> metabarcoding\n",
      "denovo111\n",
      "origin -> metabarcoding\n",
      "denovo112\n",
      "origin -> metabarcoding\n",
      "denovo113\n",
      "origin -> metabarcoding\n",
      "denovo114\n",
      "origin -> metabarcoding\n",
      "denovo115\n",
      "origin -> metabarcoding\n",
      "denovo116\n",
      "origin -> metabarcoding\n",
      "denovo117\n",
      "origin -> metabarcoding\n",
      "denovo118\n",
      "origin -> metabarcoding\n",
      "denovo119\n",
      "origin -> metabarcoding\n",
      "denovo120\n",
      "origin -> metabarcoding\n",
      "denovo121\n",
      "origin -> metabarcoding\n",
      "denovo122\n",
      "origin -> metabarcoding\n",
      "denovo123\n",
      "origin -> metabarcoding\n",
      "denovo124\n",
      "origin -> metabarcoding\n",
      "denovo125\n",
      "origin -> metabarcoding\n",
      "denovo126\n",
      "origin -> metabarcoding\n"
     ]
    }
   ],
   "source": [
    "for r in pj.records:\n",
    "    if 'denovo' in r.id:\n",
    "        print r.id\n",
    "        ## all the Sanger sequences contain the string 'HCO2198' in the sequence header\n",
    "        if 'SANGER' in r.description:\n",
    "            print \"origin -> Sanger\"\n",
    "            for f in r.features:\n",
    "                f.qualifiers['origin'] = ['Sanger']\n",
    "                f.qualifiers['origin_abr'] = ['s']\n",
    "        ## if they are don't contain 'HCO2198' they originate from metabarcoding\n",
    "        else:\n",
    "            print \"origin -> metabarcoding\"\n",
    "            for f in r.features:\n",
    "                f.qualifiers['origin'] = ['metabarcoding']\n",
    "                f.qualifiers['origin_abr'] = ['+']\n",
    "    #if they are not 'denovo' then they were from a previous study\n",
    "    else:\n",
    "        print r.id\n",
    "        print \"origin -> previous study\"\n",
    "        for f in r.features:\n",
    "            f.qualifiers['origin'] = ['']\n",
    "            f.qualifiers['origin_abr'] = ['']"
   ]
  },
  {
   "cell_type": "code",
   "execution_count": 58,
   "metadata": {
    "collapsed": false
   },
   "outputs": [],
   "source": [
    "pj.propagate_metadata()"
   ]
  },
  {
   "cell_type": "markdown",
   "metadata": {},
   "source": [
    "Refine tree annotation."
   ]
  },
  {
   "cell_type": "markdown",
   "metadata": {},
   "source": [
    "Format tree to add symbols * or + to leaf name to indicate 'Sanger' or 'metabarcoding' sequences, respectively."
   ]
  },
  {
   "cell_type": "code",
   "execution_count": 59,
   "metadata": {
    "collapsed": false
   },
   "outputs": [],
   "source": [
    "pj.clear_tree_annotations()\n",
    "pj.annotate('.', 'outgroup', 'outgroup', \n",
    "            ['source_organism','record_id','origin_abr'], \n",
    "            node_support_dict=supports, multifurc=10,\n",
    "            html='./mafftLinsi-trimal-raxml.html')"
   ]
  },
  {
   "cell_type": "markdown",
   "metadata": {},
   "source": [
    "Color the tree labels according to origin of the sequences."
   ]
  },
  {
   "cell_type": "code",
   "execution_count": 60,
   "metadata": {
    "collapsed": true
   },
   "outputs": [],
   "source": [
    "leaf_colors = {'Sanger':'red', 'metabarcoding': 'blue'}"
   ]
  },
  {
   "cell_type": "code",
   "execution_count": 61,
   "metadata": {
    "collapsed": false
   },
   "outputs": [],
   "source": [
    "pj.clear_tree_annotations()\n",
    "pj.annotate('.', 'mid', 'mid', \n",
    "            ['source_organism', 'record_id'], \n",
    "            node_support_dict=supports, multifurc=50, #None\n",
    "            leaf_node_color_meta = 'origin', leaf_label_colors = leaf_colors,\n",
    "            html='./mafftLinsi-trimal-raxml.html')"
   ]
  },
  {
   "cell_type": "markdown",
   "metadata": {},
   "source": [
    "Add haplotype abbreviations to records to be used as tree tip labels."
   ]
  },
  {
   "cell_type": "code",
   "execution_count": 62,
   "metadata": {
    "collapsed": false,
    "scrolled": true
   },
   "outputs": [
    {
     "name": "stdout",
     "output_type": "stream",
     "text": [
      "AB513800.1 Crangonyx floridanus\n",
      "['Cf_Jap_CF-1291']\n",
      "AB513801.1 Crangonyx floridanus\n",
      "['Cf_Jap_CF-1292']\n",
      "AB513802.1 Crangonyx floridanus\n",
      "['Cf_Jap_CF-1642']\n",
      "AB513803.1 Crangonyx floridanus\n",
      "['Cf_Jap_CF-1643']\n",
      "AB513804.1 Crangonyx floridanus\n",
      "['Cf_Jap_CF-1644']\n",
      "AB513805.1 Crangonyx floridanus\n",
      "['Cf_Jap_CF-1645']\n",
      "AB513806.1 Crangonyx floridanus\n",
      "['Cf_Jap_CF-1647']\n",
      "AB513807.1 Crangonyx floridanus\n",
      "['Cf_Jap_CF-1650']\n",
      "AB513808.1 Crangonyx floridanus\n",
      "['Cf_Jap_CF-1690']\n",
      "AB513809.1 Crangonyx floridanus\n",
      "['Cf_Jap_CF-1691']\n",
      "AB513810.1 Crangonyx floridanus\n",
      "['Cf_Jap_CF-1692']\n",
      "AB513811.1 Crangonyx floridanus\n",
      "['Cf_Jap_CF-1693']\n",
      "AB513812.1 Crangonyx floridanus\n",
      "['Cf_Jap_CF-1694']\n",
      "AB513813.1 Crangonyx floridanus\n",
      "['Cf_Jap_CF-1695']\n",
      "AB513814.1 Crangonyx floridanus\n",
      "['Cf_Jap_CF-1696']\n",
      "AB513815.1 Crangonyx floridanus\n",
      "['Cf_Jap_CF-1697']\n",
      "AB513816.1 Crangonyx floridanus\n",
      "['Cf_Jap_CF-1740']\n",
      "AB513817.1 Crangonyx floridanus\n",
      "['Cf_Jap_CF-1741']\n",
      "AB513818.1 Crangonyx floridanus\n",
      "['Cf_Jap_CF-1742']\n",
      "AB513819.1 Crangonyx floridanus\n",
      "['Cf_Jap_CF-1743']\n",
      "AB513820.1 Crangonyx floridanus\n",
      "['Cf_Jap_CF-1744']\n",
      "AB513821.1 Crangonyx floridanus\n",
      "['Cf_Jap_CF-1746']\n",
      "AB513822.1 Crangonyx floridanus\n",
      "['Cf_Jap_CF-1897']\n",
      "AB513823.1 Crangonyx floridanus\n",
      "['Cf_Jap_CF-1898']\n",
      "AB513824.1 Crangonyx floridanus\n",
      "['Cf_Jap_CF-1902']\n",
      "AB513825.1 Crangonyx floridanus\n",
      "['Cf_Jap_CF-1907']\n",
      "AB513826.1 Crangonyx floridanus\n",
      "['Cf_Jap_CF-1908']\n",
      "AB513827.1 Crangonyx floridanus\n",
      "['Cf_Jap_CF-1763']\n",
      "AB513828.1 Crangonyx floridanus\n",
      "['Cf_Jap_CF-1698']\n",
      "AB513829.1 Crangonyx floridanus\n",
      "['Cf_Jap_CF-1641']\n",
      "AB513830.1 Crangonyx floridanus\n",
      "['Cf_Jap_CF-1633']\n",
      "AB513831.1 Crangonyx floridanus\n",
      "['Cf_Jap_CF-1646']\n",
      "AB513832.1 Crangonyx floridanus\n",
      "['Cf_Jap_CF-1294']\n",
      "AB513833.1 Crangonyx floridanus\n",
      "['Cf_Jap_CF-1293']\n",
      "AB513834.1 Crangonyx floridanus\n",
      "['Cf_Jap_CF-1652']\n",
      "AB513835.1 Crangonyx floridanus\n",
      "['Cf_Jap_CF-1651']\n",
      "AJ968893.1 Crangonyx pseudogracilis\n",
      "['Cp_Uni_P8']\n",
      "AJ968894.1 Crangonyx pseudogracilis\n",
      "['Cp_Net_HBA1']\n",
      "AJ968895.1 Crangonyx pseudogracilis\n",
      "['Cp_Net_HEA2']\n",
      "AJ968896.1 Crangonyx pseudogracilis\n",
      "['Cp_Net_HAA12']\n",
      "AJ968897.1 Crangonyx pseudogracilis\n",
      "['Cp_Fra_FBA12']\n",
      "AJ968898.1 Crangonyx pseudogracilis\n",
      "['Cp_Fra_FEA1']\n",
      "AJ968899.1 Crangonyx pseudogracilis\n",
      "['Cp_Fra_FCA2']\n",
      "AJ968900.1 Crangonyx pseudogracilis\n",
      "['Cp_Fra_FLA4']\n",
      "AJ968901.1 Crangonyx pseudogracilis\n",
      "['Cp_USA_LGA7']\n",
      "AJ968902.1 Crangonyx pseudogracilis\n",
      "['Cp_USA_LGA10']\n",
      "AJ968903.1 Crangonyx pseudogracilis\n",
      "['Cp_USA_LGA19']\n",
      "AJ968904.1 Crangonyx pseudogracilis\n",
      "['Cp_USA_LGA20']\n",
      "MK036646.1 Crangonyx floridanus\n",
      "['Cf_Uni_1']\n",
      "MK036647.1 Crangonyx floridanus\n",
      "['Cf_Uni_2']\n",
      "MK036648.1 Crangonyx floridanus\n",
      "['Cf_Uni_3']\n",
      "MK036649.1 Crangonyx floridanus\n",
      "['Cf_Uni_4']\n",
      "MK036650.1 Crangonyx floridanus\n",
      "['Cf_Uni_5']\n",
      "MK036651.1 Crangonyx floridanus\n",
      "['Cf_Uni_6']\n",
      "MK036652.1 Crangonyx floridanus\n",
      "['Cf_Uni_7']\n",
      "MK036653.1 Crangonyx floridanus\n",
      "['Cf_Uni_8']\n",
      "MK036654.1 Crangonyx floridanus\n",
      "['Cf_Uni_9']\n",
      "MK036655.1 Crangonyx floridanus\n",
      "['Cf_Uni_10']\n",
      "MK036656.1 Crangonyx floridanus\n",
      "['Cf_Uni_11']\n",
      "MK036657.1 Crangonyx floridanus\n",
      "['Cf_Uni_12']\n",
      "MK036658.1 Crangonyx floridanus\n",
      "['Cf_Uni_13']\n",
      "MK036659.1 Crangonyx floridanus\n",
      "['Cf_Uni_14']\n",
      "HM015193.1 Crangonyx islandicus\n",
      "['Ci_E4']\n",
      "HM015194.1 Crangonyx islandicus\n",
      "['Ci_F1']\n",
      "HM015195.1 Crangonyx islandicus\n",
      "['Ci_F2']\n",
      "HM015196.1 Crangonyx islandicus\n",
      "['Ci_F3']\n",
      "denovo0 Crangonyx floridanus\n",
      "['Cf_UK-Sanger_01']\n",
      "denovo1 Crangonyx pseudogracilis\n",
      "['Cp_UK-Sanger_01']\n",
      "denovo2 Crangonyx floridanus\n",
      "['Cf_UK-Sanger_02']\n",
      "denovo3 Crangonyx pseudogracilis\n",
      "['Cp_UK-Sanger_02']\n",
      "denovo4 Crangonyx pseudogracilis\n",
      "['Cp_UK-Sanger_03']\n",
      "denovo5 Crangonyx floridanus\n",
      "['Cf_UK-Sanger_03']\n",
      "denovo6 Crangonyx floridanus\n",
      "['Cf_UK_Mb-01']\n",
      "denovo7 Crangonyx floridanus\n",
      "['Cf_UK_Mb-02']\n",
      "denovo8 Crangonyx floridanus\n",
      "['Cf_UK_Mb-03']\n",
      "denovo9 Crangonyx floridanus\n",
      "['Cf_UK_Mb-04']\n",
      "denovo10 Crangonyx floridanus\n",
      "['Cf_UK_Mb-05']\n",
      "denovo11 Crangonyx floridanus\n",
      "['Cf_UK_Mb-06']\n",
      "denovo12 Crangonyx floridanus\n",
      "['Cf_UK_Mb-07']\n",
      "denovo13 Crangonyx floridanus\n",
      "['Cf_UK_Mb-08']\n",
      "denovo14 Crangonyx floridanus\n",
      "['Cf_UK_Mb-09']\n",
      "denovo15 Crangonyx floridanus\n",
      "['Cf_UK_Mb-10']\n",
      "denovo16 Crangonyx floridanus\n",
      "['Cf_UK_Mb-11']\n",
      "denovo17 Crangonyx floridanus\n",
      "['Cf_UK_Mb-12']\n",
      "denovo18 Crangonyx floridanus\n",
      "['Cf_UK_Mb-13']\n",
      "denovo19 Crangonyx floridanus\n",
      "['Cf_UK_Mb-14']\n",
      "denovo20 Crangonyx floridanus\n",
      "['Cf_UK_Mb-15']\n",
      "denovo21 Crangonyx floridanus\n",
      "['Cf_UK_Mb-16']\n",
      "denovo22 Crangonyx floridanus\n",
      "['Cf_UK_Mb-17']\n",
      "denovo23 Crangonyx floridanus\n",
      "['Cf_UK_Mb-18']\n",
      "denovo24 Crangonyx floridanus\n",
      "['Cf_UK_Mb-19']\n",
      "denovo25 Crangonyx floridanus\n",
      "['Cf_UK_Mb-20']\n",
      "denovo26 Crangonyx floridanus\n",
      "['Cf_UK_Mb-21']\n",
      "denovo27 Crangonyx floridanus\n",
      "['Cf_UK_Mb-22']\n",
      "denovo28 Crangonyx floridanus\n",
      "['Cf_UK_Mb-23']\n",
      "denovo29 Crangonyx floridanus\n",
      "['Cf_UK_Mb-24']\n",
      "denovo30 Crangonyx floridanus\n",
      "['Cf_UK_Mb-25']\n",
      "denovo31 Crangonyx floridanus\n",
      "['Cf_UK_Mb-26']\n",
      "denovo32 Crangonyx floridanus\n",
      "['Cf_UK_Mb-27']\n",
      "denovo33 Crangonyx floridanus\n",
      "['Cf_UK_Mb-28']\n",
      "denovo34 Crangonyx floridanus\n",
      "['Cf_UK_Mb-29']\n",
      "denovo35 Crangonyx floridanus\n",
      "['Cf_UK_Mb-30']\n",
      "denovo36 Crangonyx floridanus\n",
      "['Cf_UK_Mb-31']\n",
      "denovo37 Crangonyx floridanus\n",
      "['Cf_UK_Mb-32']\n",
      "denovo38 Crangonyx floridanus\n",
      "['Cf_UK_Mb-33']\n",
      "denovo39 Crangonyx floridanus\n",
      "['Cf_UK_Mb-34']\n",
      "denovo40 Crangonyx floridanus\n",
      "['Cf_UK_Mb-35']\n",
      "denovo41 Crangonyx floridanus\n",
      "['Cf_UK_Mb-36']\n",
      "denovo42 Crangonyx floridanus\n",
      "['Cf_UK_Mb-37']\n",
      "denovo43 Crangonyx floridanus\n",
      "['Cf_UK_Mb-38']\n",
      "denovo44 Crangonyx floridanus\n",
      "['Cf_UK_Mb-39']\n",
      "denovo45 Crangonyx floridanus\n",
      "['Cf_UK_Mb-40']\n",
      "denovo46 Crangonyx floridanus\n",
      "['Cf_UK_Mb-41']\n",
      "denovo47 Crangonyx floridanus\n",
      "['Cf_UK_Mb-42']\n",
      "denovo48 Crangonyx floridanus\n",
      "['Cf_UK_Mb-43']\n",
      "denovo49 Crangonyx floridanus\n",
      "['Cf_UK_Mb-44']\n",
      "denovo50 Crangonyx floridanus\n",
      "['Cf_UK_Mb-45']\n",
      "denovo51 Crangonyx floridanus\n",
      "['Cf_UK_Mb-46']\n",
      "denovo52 Crangonyx floridanus\n",
      "['Cf_UK_Mb-47']\n",
      "denovo53 Crangonyx floridanus\n",
      "['Cf_UK_Mb-48']\n",
      "denovo54 Crangonyx floridanus\n",
      "['Cf_UK_Mb-49']\n",
      "denovo55 Crangonyx floridanus\n",
      "['Cf_UK_Mb-50']\n",
      "denovo56 Crangonyx floridanus\n",
      "['Cf_UK_Mb-51']\n",
      "denovo57 Crangonyx floridanus\n",
      "['Cf_UK_Mb-52']\n",
      "denovo58 Crangonyx floridanus\n",
      "['Cf_UK_Mb-53']\n",
      "denovo59 Crangonyx floridanus\n",
      "['Cf_UK_Mb-54']\n",
      "denovo60 Crangonyx floridanus\n",
      "['Cf_UK_Mb-55']\n",
      "denovo61 Crangonyx floridanus\n",
      "['Cf_UK_Mb-56']\n",
      "denovo62 Crangonyx floridanus\n",
      "['Cf_UK_Mb-57']\n",
      "denovo63 Crangonyx floridanus\n",
      "['Cf_UK_Mb-58']\n",
      "denovo64 Crangonyx floridanus\n",
      "['Cf_UK_Mb-59']\n",
      "denovo65 Crangonyx floridanus\n",
      "['Cf_UK_Mb-60']\n",
      "denovo66 Crangonyx floridanus\n",
      "['Cf_UK_Mb-61']\n",
      "denovo67 Crangonyx floridanus\n",
      "['Cf_UK_Mb-62']\n",
      "denovo68 Crangonyx floridanus\n",
      "['Cf_UK_Mb-63']\n",
      "denovo69 Crangonyx floridanus\n",
      "['Cf_UK_Mb-64']\n",
      "denovo70 Crangonyx pseudogracilis\n",
      "['Cp_UK_Mb-01']\n",
      "denovo71 Crangonyx pseudogracilis\n",
      "['Cp_UK_Mb-02']\n",
      "denovo72 Crangonyx pseudogracilis\n",
      "['Cp_UK_Mb-03']\n",
      "denovo73 Crangonyx pseudogracilis\n",
      "['Cp_UK_Mb-04']\n",
      "denovo74 Crangonyx pseudogracilis\n",
      "['Cp_UK_Mb-05']\n",
      "denovo75 Crangonyx pseudogracilis\n",
      "['Cp_UK_Mb-06']\n",
      "denovo76 Crangonyx pseudogracilis\n",
      "['Cp_UK_Mb-07']\n",
      "denovo77 Crangonyx pseudogracilis\n",
      "['Cp_UK_Mb-08']\n",
      "denovo78 Crangonyx pseudogracilis\n",
      "['Cp_UK_Mb-09']\n",
      "denovo79 Crangonyx pseudogracilis\n",
      "['Cp_UK_Mb-10']\n",
      "denovo80 Crangonyx pseudogracilis\n",
      "['Cp_UK_Mb-11']\n",
      "denovo81 Crangonyx pseudogracilis\n",
      "['Cp_UK_Mb-12']\n",
      "denovo82 Crangonyx pseudogracilis\n",
      "['Cp_UK_Mb-13']\n",
      "denovo83 Crangonyx pseudogracilis\n",
      "['Cp_UK_Mb-14']\n",
      "denovo84 Crangonyx pseudogracilis\n",
      "['Cp_UK_Mb-15']\n",
      "denovo85 Crangonyx pseudogracilis\n",
      "['Cp_UK_Mb-16']\n",
      "denovo86 Crangonyx pseudogracilis\n",
      "['Cp_UK_Mb-17']\n",
      "denovo87 Crangonyx pseudogracilis\n",
      "['Cp_UK_Mb-18']\n",
      "denovo88 Crangonyx pseudogracilis\n",
      "['Cp_UK_Mb-19']\n",
      "denovo89 Crangonyx pseudogracilis\n",
      "['Cp_UK_Mb-20']\n",
      "denovo90 Crangonyx pseudogracilis\n",
      "['Cp_UK_Mb-21']\n",
      "denovo91 Crangonyx pseudogracilis\n",
      "['Cp_UK_Mb-22']\n",
      "denovo92 Crangonyx pseudogracilis\n",
      "['Cp_UK_Mb-23']\n",
      "denovo93 Crangonyx pseudogracilis\n",
      "['Cp_UK_Mb-24']\n",
      "denovo94 Crangonyx pseudogracilis\n",
      "['Cp_UK_Mb-25']\n",
      "denovo95 Crangonyx pseudogracilis\n",
      "['Cp_UK_Mb-26']\n",
      "denovo96 Crangonyx pseudogracilis\n",
      "['Cp_UK_Mb-27']\n",
      "denovo97 Crangonyx pseudogracilis\n",
      "['Cp_UK_Mb-28']\n",
      "denovo98 Crangonyx pseudogracilis\n",
      "['Cp_UK_Mb-29']\n",
      "denovo99 Crangonyx pseudogracilis\n",
      "['Cp_UK_Mb-30']\n",
      "denovo100 Crangonyx pseudogracilis\n",
      "['Cp_UK_Mb-31']\n",
      "denovo101 Crangonyx pseudogracilis\n",
      "['Cp_UK_Mb-32']\n",
      "denovo102 Crangonyx pseudogracilis\n",
      "['Cp_UK_Mb-33']\n",
      "denovo103 Crangonyx pseudogracilis\n",
      "['Cp_UK_Mb-34']\n",
      "denovo104 Crangonyx pseudogracilis\n",
      "['Cp_UK_Mb-35']\n",
      "denovo105 Crangonyx pseudogracilis\n",
      "['Cp_UK_Mb-36']\n",
      "denovo106 Crangonyx pseudogracilis\n",
      "['Cp_UK_Mb-37']\n",
      "denovo107 Crangonyx pseudogracilis\n",
      "['Cp_UK_Mb-38']\n",
      "denovo108 Crangonyx pseudogracilis\n",
      "['Cp_UK_Mb-39']\n",
      "denovo109 Crangonyx pseudogracilis\n",
      "['Cp_UK_Mb-40']\n",
      "denovo110 Crangonyx pseudogracilis\n",
      "['Cp_UK_Mb-41']\n",
      "denovo111 Crangonyx pseudogracilis\n",
      "['Cp_UK_Mb-42']\n",
      "denovo112 Crangonyx pseudogracilis\n",
      "['Cp_UK_Mb-43']\n",
      "denovo113 Crangonyx pseudogracilis\n",
      "['Cp_UK_Mb-44']\n",
      "denovo114 Crangonyx pseudogracilis\n",
      "['Cp_UK_Mb-45']\n",
      "denovo115 Crangonyx pseudogracilis\n",
      "['Cp_UK_Mb-46']\n",
      "denovo116 Crangonyx pseudogracilis\n",
      "['Cp_UK_Mb-47']\n",
      "denovo117 Crangonyx pseudogracilis\n",
      "['Cp_UK_Mb-48']\n",
      "denovo118 Crangonyx pseudogracilis\n",
      "['Cp_UK_Mb-49']\n",
      "denovo119 Crangonyx pseudogracilis\n",
      "['Cp_UK_Mb-50']\n",
      "denovo120 Crangonyx pseudogracilis\n",
      "['Cp_UK_Mb-51']\n",
      "denovo121 Crangonyx pseudogracilis\n",
      "['Cp_UK_Mb-52']\n",
      "denovo122 Crangonyx pseudogracilis\n",
      "['Cp_UK_Mb-53']\n",
      "denovo123 Crangonyx pseudogracilis\n",
      "['Cp_UK_Mb-54']\n",
      "denovo124 Crangonyx pseudogracilis\n",
      "['Cp_UK_Mb-55']\n",
      "denovo125 Crangonyx pseudogracilis\n",
      "['Cp_UK_Mb-56']\n",
      "denovo126 Crangonyx pseudogracilis\n",
      "['Cp_UK_Mb-57']\n"
     ]
    }
   ],
   "source": [
    "MB_count={'Cp':1, 'Cf':1}\n",
    "FO_count={'Cp':1, 'Cf':1}\n",
    "for r in pj.records:\n",
    "    print r.id,r.features[0].qualifiers['organism'][0]\n",
    "\n",
    "    if r.features[0].qualifiers['organism'][0].split(\" \")[1] in ['pseudogracilis','floridanus','islandicus']:\n",
    "        sp_prefix = r.features[0].qualifiers['organism'][0].split(\" \")[0][0]+r.features[0].qualifiers['organism'][0].split(\" \")[1][0]\n",
    "        if 'denovo' in r.id:\n",
    "            if 'metabarcoding' in r.features[0].qualifiers['origin']:\n",
    "                for f in r.features:\n",
    "                    f.qualifiers['label'] = [r.description.split(\"|\")[1]]\n",
    "                print r.features[0].qualifiers['label']\n",
    "                MB_count[sp_prefix]+=1\n",
    "            if 'Sanger' in r.features[0].qualifiers['origin']:\n",
    "                for f in r.features:\n",
    "                    f.qualifiers['label'] = [sp_prefix+'_UK-Sanger_'+\"%02d\" %FO_count[sp_prefix]]\n",
    "                print r.features[0].qualifiers['label']\n",
    "                FO_count[sp_prefix]+=1\n",
    "        elif r.id.startswith('AB') or r.id.startswith('AJ') or r.id.startswith('MK'):\n",
    "            for f in r.features:\n",
    "                f.qualifiers['label'] = [sp_prefix+'_'+r.features[0].qualifiers['country'][0][:3]+'_'+r.features[0].qualifiers['isolate'][0]]\n",
    "            print r.features[0].qualifiers['label']\n",
    "        elif r.id.startswith('EF'):\n",
    "            for f in r.features:\n",
    "                f.qualifiers['label'] = [sp_prefix+'_'+r.features[0].qualifiers['country'][0][:3]+'_'+r.features[0].qualifiers['specimen_voucher'][0]]\n",
    "#                f.qualifiers['label'] = r.features[0].qualifiers['specimen_voucher']\n",
    "            print r.features[0].qualifiers['label']\n",
    "        else:\n",
    "            for f in r.features:\n",
    "                f.qualifiers['label'] = [sp_prefix+'_'+r.features[0].qualifiers['isolate'][0]]\n",
    "            print r.features[0].qualifiers['label']\n",
    "    else:\n",
    "        for f in r.features:\n",
    "            f.qualifiers['label'] = r.features[0].qualifiers['organism']\n",
    "        print r.features[0].qualifiers['label']"
   ]
  },
  {
   "cell_type": "code",
   "execution_count": 63,
   "metadata": {
    "collapsed": true
   },
   "outputs": [],
   "source": [
    "pj.propagate_metadata()"
   ]
  },
  {
   "cell_type": "code",
   "execution_count": 64,
   "metadata": {
    "collapsed": false
   },
   "outputs": [],
   "source": [
    "pj.clear_tree_annotations()\n",
    "pj.annotate('.', 'outgroup', 'outgroup', \n",
    "            ['label'], \n",
    "            node_support_dict=supports, multifurc=None,\n",
    "            leaf_node_color_meta = 'origin', leaf_label_colors = leaf_colors,\n",
    "            scale = 1000,\n",
    "           html='./mafftLinsi-trimal-raxml.html')"
   ]
  },
  {
   "cell_type": "markdown",
   "metadata": {},
   "source": [
    "Write out alignments again, adding the new label names."
   ]
  },
  {
   "cell_type": "code",
   "execution_count": 65,
   "metadata": {
    "collapsed": false
   },
   "outputs": [
    {
     "data": {
      "text/plain": [
       "['MT-CO1@MINIBC_aln.fasta', 'MT-CO1@FOLMER_aln.fasta', 'MT-CO1@ALL_aln.fasta']"
      ]
     },
     "execution_count": 65,
     "metadata": {},
     "output_type": "execute_result"
    }
   ],
   "source": [
    "pj.write_alns(id=['record_id', 'label'], format='fasta')"
   ]
  },
  {
   "cell_type": "code",
   "execution_count": 66,
   "metadata": {
    "collapsed": false
   },
   "outputs": [
    {
     "data": {
      "text/plain": [
       "['MT-CO1@MINIBC@gt80_trimmed_aln.fasta',\n",
       " 'MT-CO1@ALL@gt70_trimmed_aln.fasta',\n",
       " 'MT-CO1@MINIBC@gt90_trimmed_aln.fasta',\n",
       " 'MT-CO1@MINIBC@gt70_trimmed_aln.fasta',\n",
       " 'MT-CO1@ALL@gt80_trimmed_aln.fasta',\n",
       " 'MT-CO1@FOLMER@gt70_trimmed_aln.fasta',\n",
       " 'MT-CO1@ALL@gt90_trimmed_aln.fasta',\n",
       " 'MT-CO1@FOLMER@gt90_trimmed_aln.fasta',\n",
       " 'MT-CO1@FOLMER@gt80_trimmed_aln.fasta']"
      ]
     },
     "execution_count": 66,
     "metadata": {},
     "output_type": "execute_result"
    }
   ],
   "source": [
    "pj.write_trimmed_alns(id=['record_id', 'label'], format='fasta')"
   ]
  },
  {
   "cell_type": "markdown",
   "metadata": {},
   "source": [
    "Copy phylogenetic trees and underlying alignments in separate directory as supplement for the paper."
   ]
  },
  {
   "cell_type": "code",
   "execution_count": 67,
   "metadata": {
    "collapsed": false
   },
   "outputs": [
    {
     "name": "stdout",
     "output_type": "stream",
     "text": [
      "mkdir: cannot create directory ‘supplementary’: File exists\r\n"
     ]
    }
   ],
   "source": [
    "mkdir supplementary"
   ]
  },
  {
   "cell_type": "code",
   "execution_count": 68,
   "metadata": {
    "collapsed": false
   },
   "outputs": [],
   "source": [
    "%%bash\n",
    "\n",
    "#copy and rename phylogenies\n",
    "for p in $(ls -1 *.png)\n",
    "do\n",
    "    base=$(echo $p | cut -d \"_\" -f 2-)\n",
    "    cp $p supplementary/RAxML_GTRGAMMA-$base\n",
    "done\n",
    "\n",
    "#copy alignments\n",
    "cp MT-CO1* supplementary/"
   ]
  },
  {
   "cell_type": "code",
   "execution_count": 69,
   "metadata": {
    "collapsed": false
   },
   "outputs": [
    {
     "name": "stdout",
     "output_type": "stream",
     "text": [
      "mkdir: cannot create directory ‘supplementary/RAxML/’: File exists\r\n"
     ]
    }
   ],
   "source": [
    "!mkdir supplementary/RAxML/"
   ]
  },
  {
   "cell_type": "code",
   "execution_count": 70,
   "metadata": {
    "collapsed": false
   },
   "outputs": [],
   "source": [
    "!mv RAxML_* supplementary/RAxML/"
   ]
  },
  {
   "cell_type": "markdown",
   "metadata": {},
   "source": [
    "Pickle Reprophylo project for later."
   ]
  },
  {
   "cell_type": "code",
   "execution_count": 71,
   "metadata": {
    "collapsed": false
   },
   "outputs": [
    {
     "data": {
      "text/plain": [
       "'pickle_file/crangonyx_project.pickle'"
      ]
     },
     "execution_count": 71,
     "metadata": {},
     "output_type": "execute_result"
    }
   ],
   "source": [
    "pickle_pj(pj, 'pickle_file/crangonyx_project.pickle')"
   ]
  },
  {
   "cell_type": "code",
   "execution_count": 72,
   "metadata": {
    "collapsed": true
   },
   "outputs": [],
   "source": [
    "!cp pickle_file/crangonyx_project.pickle supplementary/"
   ]
  },
  {
   "cell_type": "markdown",
   "metadata": {},
   "source": [
    "Generate supplementary table linking haplotypes with accession numbers."
   ]
  },
  {
   "cell_type": "code",
   "execution_count": 145,
   "metadata": {
    "collapsed": false,
    "scrolled": false
   },
   "outputs": [
    {
     "ename": "IOError",
     "evalue": "[Errno 2] No such file or directory: '../1-NCBI_references/phylogeny_refseqs.csv'",
     "output_type": "error",
     "traceback": [
      "\u001b[1;31m---------------------------------------------------------------------------\u001b[0m",
      "\u001b[1;31mIOError\u001b[0m                                   Traceback (most recent call last)",
      "\u001b[1;32m<ipython-input-145-6ae5cedd8816>\u001b[0m in \u001b[0;36m<module>\u001b[1;34m()\u001b[0m\n\u001b[0;32m      2\u001b[0m \u001b[1;33m\u001b[0m\u001b[0m\n\u001b[0;32m      3\u001b[0m \u001b[1;31m#previously published sequences used in the phylogeny\u001b[0m\u001b[1;33m\u001b[0m\u001b[1;33m\u001b[0m\u001b[0m\n\u001b[1;32m----> 4\u001b[1;33m \u001b[0mrefs\u001b[0m \u001b[1;33m=\u001b[0m \u001b[0mopen\u001b[0m\u001b[1;33m(\u001b[0m\u001b[1;34m'../1-NCBI_references/phylogeny_refseqs.csv'\u001b[0m\u001b[1;33m,\u001b[0m\u001b[1;34m'r'\u001b[0m\u001b[1;33m)\u001b[0m\u001b[1;33m\u001b[0m\u001b[0m\n\u001b[0m\u001b[0;32m      5\u001b[0m \u001b[0mrefs\u001b[0m\u001b[1;33m.\u001b[0m\u001b[0mnext\u001b[0m\u001b[1;33m(\u001b[0m\u001b[1;33m)\u001b[0m\u001b[1;33m\u001b[0m\u001b[0m\n\u001b[0;32m      6\u001b[0m \u001b[1;32mfor\u001b[0m \u001b[0mr\u001b[0m \u001b[1;32min\u001b[0m \u001b[0mrefs\u001b[0m\u001b[1;33m:\u001b[0m\u001b[1;33m\u001b[0m\u001b[0m\n",
      "\u001b[1;31mIOError\u001b[0m: [Errno 2] No such file or directory: '../1-NCBI_references/phylogeny_refseqs.csv'"
     ]
    }
   ],
   "source": [
    "references = {}\n",
    "\n",
    "#previously published sequences used in the phylogeny\n",
    "refs = open('../1-NCBI_references/phylogeny_refseqs.csv','r')\n",
    "refs.next()\n",
    "for r in refs:\n",
    "    cols=r.strip().split(\",\")\n",
    "    references[cols[1]] = cols[2]\n",
    "\n",
    "hts = {}   \n",
    "\n",
    "#read in Genbank accessions for sequences produced in this study from text file\n",
    "acc_fh = open('supplementary/this_study_ht_to_accessions.tsv')\n",
    "ht_to_new_accs = {}\n",
    "for ht in acc_fh:\n",
    "    ht_to_new_accs[ht.strip().split(\"\\t\")[0]] = ht.strip().split(\"\\t\")[1]\n",
    "\n",
    "#\n",
    "for r in pj.records:\n",
    "    hts[r.features[0].qualifiers['label'][0]] = \"%s\" %r.features[0].qualifiers['organism'][0]\n",
    "    \n",
    "    if \".\".join(r.id.split(\".\")[:-1]) in references:\n",
    "        hts[r.features[0].qualifiers['label'][0]]+= \"\\t%s\\t%s\" %(r.id, references[\".\".join(r.id.split(\".\")[:-1])])\n",
    "\n",
    "    else:\n",
    "        hts[r.features[0].qualifiers['label'][0]]+= \"\\t\"+ht_to_new_accs[r.features[0].qualifiers['label'][0]]+\"\\tcurrent study\"\n",
    "\n",
    "\n",
    "out='sequence id\\tspecies\\tGenbank accession\\treference\\n'\n",
    "for s in sorted(hts.keys()):\n",
    "    out+=\"%s\\t%s\\n\" %(s, hts[s])\n",
    "\n",
    "print out\n",
    "\n",
    "outfh=open('supplementary/ht_accessions.tsv','w')\n",
    "outfh.write(out)\n",
    "outfh.close()"
   ]
  }
 ],
 "metadata": {
  "kernelspec": {
   "display_name": "Python 2",
   "language": "python",
   "name": "python2"
  },
  "language_info": {
   "codemirror_mode": {
    "name": "ipython",
    "version": 2
   },
   "file_extension": ".py",
   "mimetype": "text/x-python",
   "name": "python",
   "nbconvert_exporter": "python",
   "pygments_lexer": "ipython2",
   "version": "2.7.6"
  }
 },
 "nbformat": 4,
 "nbformat_minor": 0
}
